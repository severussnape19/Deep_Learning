{
  "nbformat": 4,
  "nbformat_minor": 0,
  "metadata": {
    "colab": {
      "provenance": []
    },
    "kernelspec": {
      "name": "python3",
      "display_name": "Python 3"
    },
    "language_info": {
      "name": "python"
    }
  },
  "cells": [
    {
      "cell_type": "code",
      "execution_count": 136,
      "metadata": {
        "id": "VEuIBva1YxdH"
      },
      "outputs": [],
      "source": [
        "import numpy as no\n",
        "import torch\n",
        "from torch import nn\n",
        "import matplotlib.pyplot as plt"
      ]
    },
    {
      "cell_type": "code",
      "source": [
        "weights_linear = torch.tensor([3.0, 2.0, 0.5])\n",
        "weights_squared = torch.tensor([1.5, -2.0, 0.7])\n",
        "bias = 4.0\n",
        "\n",
        "X = torch.rand(100, 3)\n",
        "X_poly = torch.cat([X, X**2], dim = 1)\n",
        "y = X @ weights_linear + (X**2) @ weights_squared + bias\n",
        "y = y.unsqueeze(dim = 1)"
      ],
      "metadata": {
        "id": "NbaRjMCUZypK"
      },
      "execution_count": 137,
      "outputs": []
    },
    {
      "cell_type": "code",
      "source": [
        "from sklearn.model_selection import train_test_split\n",
        "X_train, X_test, y_train, y_test = train_test_split(X_poly, y, test_size = 0.2, random_state = 42)\n",
        "print(\"X_train.shape:\", X_train.shape)  # should be (80, 6)\n",
        "print(\"X_test.shape:\", X_test.shape)    # should be (20, 6)"
      ],
      "metadata": {
        "colab": {
          "base_uri": "https://localhost:8080/"
        },
        "id": "dSWBKIY2cQHn",
        "outputId": "eb26cc5a-1f51-4ba4-b429-e446d5acd203"
      },
      "execution_count": 138,
      "outputs": [
        {
          "output_type": "stream",
          "name": "stdout",
          "text": [
            "X_train.shape: torch.Size([80, 6])\n",
            "X_test.shape: torch.Size([20, 6])\n"
          ]
        }
      ]
    },
    {
      "cell_type": "code",
      "source": [
        "# Building the model\n",
        "class PolynomialRegressionModel(nn.Module):\n",
        "  def __init__(self):\n",
        "    super().__init__()\n",
        "    self.weights = nn.Parameter(torch.randn(6, 1, dtype = torch.float), requires_grad = True)\n",
        "    self.bias = nn.Parameter(torch.randn(1, dtype = torch.float), requires_grad = True)\n",
        "\n",
        "  def forward(self, x : torch.Tensor) -> torch.Tensor:\n",
        "    return x @ self.weights + self.bias"
      ],
      "metadata": {
        "id": "mS6XXfQ3c2E9"
      },
      "execution_count": 139,
      "outputs": []
    },
    {
      "cell_type": "code",
      "source": [
        "torch.manual_seed(42)\n",
        "model = PolynomialRegressionModel()\n",
        "model.state_dict() # the model outputs random values\n",
        "X_train.shape"
      ],
      "metadata": {
        "colab": {
          "base_uri": "https://localhost:8080/"
        },
        "id": "kkzb1mIzfIYl",
        "outputId": "9e59c6aa-e862-4290-c47b-61b6c0a343c0"
      },
      "execution_count": 140,
      "outputs": [
        {
          "output_type": "execute_result",
          "data": {
            "text/plain": [
              "torch.Size([80, 6])"
            ]
          },
          "metadata": {},
          "execution_count": 140
        }
      ]
    },
    {
      "cell_type": "code",
      "source": [
        "with torch.inference_mode():\n",
        "  y_pred = model(X_test)"
      ],
      "metadata": {
        "id": "nrxtmxmIhQx4"
      },
      "execution_count": 141,
      "outputs": []
    },
    {
      "cell_type": "code",
      "source": [
        "loss_fn = nn.MSELoss()\n",
        "optimizer = torch.optim.SGD(params = model.parameters(), lr = 0.01)"
      ],
      "metadata": {
        "id": "N4oteRN4j4cm"
      },
      "execution_count": 142,
      "outputs": []
    },
    {
      "cell_type": "code",
      "source": [
        "epoch_count = []\n",
        "train_loss_values = []\n",
        "test_loss_values = []\n",
        "\n",
        "epochs = 500\n",
        "\n",
        "for epoch in range(epochs):\n",
        "  model.train()\n",
        "  y_pred = model(X_train)\n",
        "  loss = loss_fn(y_pred, y_train)\n",
        "  optimizer.zero_grad()\n",
        "  loss.backward()\n",
        "  optimizer.step()\n",
        "\n",
        "  model.eval()\n",
        "  with torch.inference_mode():\n",
        "    test_pred = model(X_test)\n",
        "    test_loss = loss_fn(test_pred, y_test)\n",
        "  if epoch % 10 == 0:\n",
        "    epoch_count.append(epoch)\n",
        "    train_loss_values.append(loss.item())\n",
        "    test_loss_values.append(test_loss.item())\n",
        "    print(f\"Epoch : {epoch}  | Loss : {loss:.4f}  | Test Loss : {test_loss:.4f}\")"
      ],
      "metadata": {
        "colab": {
          "base_uri": "https://localhost:8080/"
        },
        "id": "ei6wZBHHkScS",
        "outputId": "1205af98-9419-4e91-d37f-b67b5b54cd3a"
      },
      "execution_count": 143,
      "outputs": [
        {
          "output_type": "stream",
          "name": "stdout",
          "text": [
            "Epoch : 0  | Loss : 20.2747  | Test Loss : 24.0390\n",
            "Epoch : 10  | Loss : 9.4896  | Test Loss : 11.7107\n",
            "Epoch : 20  | Loss : 4.5504  | Test Loss : 5.9257\n",
            "Epoch : 30  | Loss : 2.2813  | Test Loss : 3.1758\n",
            "Epoch : 40  | Loss : 1.2321  | Test Loss : 1.8434\n",
            "Epoch : 50  | Loss : 0.7408  | Test Loss : 1.1793\n",
            "Epoch : 60  | Loss : 0.5049  | Test Loss : 0.8347\n",
            "Epoch : 70  | Loss : 0.3865  | Test Loss : 0.6455\n",
            "Epoch : 80  | Loss : 0.3224  | Test Loss : 0.5340\n",
            "Epoch : 90  | Loss : 0.2838  | Test Loss : 0.4626\n",
            "Epoch : 100  | Loss : 0.2575  | Test Loss : 0.4128\n",
            "Epoch : 110  | Loss : 0.2373  | Test Loss : 0.3754\n",
            "Epoch : 120  | Loss : 0.2205  | Test Loss : 0.3453\n",
            "Epoch : 130  | Loss : 0.2058  | Test Loss : 0.3200\n",
            "Epoch : 140  | Loss : 0.1924  | Test Loss : 0.2981\n",
            "Epoch : 150  | Loss : 0.1802  | Test Loss : 0.2785\n",
            "Epoch : 160  | Loss : 0.1688  | Test Loss : 0.2609\n",
            "Epoch : 170  | Loss : 0.1583  | Test Loss : 0.2447\n",
            "Epoch : 180  | Loss : 0.1485  | Test Loss : 0.2299\n",
            "Epoch : 190  | Loss : 0.1393  | Test Loss : 0.2161\n",
            "Epoch : 200  | Loss : 0.1308  | Test Loss : 0.2034\n",
            "Epoch : 210  | Loss : 0.1228  | Test Loss : 0.1915\n",
            "Epoch : 220  | Loss : 0.1154  | Test Loss : 0.1804\n",
            "Epoch : 230  | Loss : 0.1085  | Test Loss : 0.1701\n",
            "Epoch : 240  | Loss : 0.1020  | Test Loss : 0.1604\n",
            "Epoch : 250  | Loss : 0.0960  | Test Loss : 0.1514\n",
            "Epoch : 260  | Loss : 0.0903  | Test Loss : 0.1429\n",
            "Epoch : 270  | Loss : 0.0851  | Test Loss : 0.1350\n",
            "Epoch : 280  | Loss : 0.0802  | Test Loss : 0.1276\n",
            "Epoch : 290  | Loss : 0.0756  | Test Loss : 0.1207\n",
            "Epoch : 300  | Loss : 0.0713  | Test Loss : 0.1142\n",
            "Epoch : 310  | Loss : 0.0674  | Test Loss : 0.1081\n",
            "Epoch : 320  | Loss : 0.0636  | Test Loss : 0.1024\n",
            "Epoch : 330  | Loss : 0.0602  | Test Loss : 0.0970\n",
            "Epoch : 340  | Loss : 0.0569  | Test Loss : 0.0920\n",
            "Epoch : 350  | Loss : 0.0539  | Test Loss : 0.0873\n",
            "Epoch : 360  | Loss : 0.0511  | Test Loss : 0.0829\n",
            "Epoch : 370  | Loss : 0.0484  | Test Loss : 0.0787\n",
            "Epoch : 380  | Loss : 0.0460  | Test Loss : 0.0748\n",
            "Epoch : 390  | Loss : 0.0437  | Test Loss : 0.0712\n",
            "Epoch : 400  | Loss : 0.0415  | Test Loss : 0.0678\n",
            "Epoch : 410  | Loss : 0.0395  | Test Loss : 0.0645\n",
            "Epoch : 420  | Loss : 0.0377  | Test Loss : 0.0615\n",
            "Epoch : 430  | Loss : 0.0359  | Test Loss : 0.0587\n",
            "Epoch : 440  | Loss : 0.0343  | Test Loss : 0.0560\n",
            "Epoch : 450  | Loss : 0.0328  | Test Loss : 0.0535\n",
            "Epoch : 460  | Loss : 0.0314  | Test Loss : 0.0512\n",
            "Epoch : 470  | Loss : 0.0300  | Test Loss : 0.0490\n",
            "Epoch : 480  | Loss : 0.0288  | Test Loss : 0.0469\n",
            "Epoch : 490  | Loss : 0.0276  | Test Loss : 0.0449\n"
          ]
        }
      ]
    },
    {
      "cell_type": "code",
      "source": [
        "plt.plot(epoch_count, train_loss_values, label=\"Train Loss\")\n",
        "plt.plot(epoch_count, test_loss_values, label=\"Test Loss\")\n",
        "plt.legend()\n",
        "plt.show()"
      ],
      "metadata": {
        "colab": {
          "base_uri": "https://localhost:8080/",
          "height": 432
        },
        "id": "VcN2Z94cnXXc",
        "outputId": "85091149-ac26-4b13-9801-5e2610bc5233"
      },
      "execution_count": 144,
      "outputs": [
        {
          "output_type": "display_data",
          "data": {
            "text/plain": [
              "<Figure size 640x480 with 1 Axes>"
            ],
            "image/png": "[encoded data removed]"
          },
          "metadata": {}
        }
      ]
    },
    {
      "cell_type": "code",
      "source": [
        "print(f\"\\nFinal Training Loss: {train_loss_values[-1] * 100:.3f} %\")\n",
        "print(f\"Final Test Loss: {test_loss_values[-1] * 100:.3f} %\")"
      ],
      "metadata": {
        "colab": {
          "base_uri": "https://localhost:8080/"
        },
        "id": "7EzGPBMIn5Xp",
        "outputId": "d7452cbd-5823-4fa6-8fc9-a3f279211b2d"
      },
      "execution_count": 148,
      "outputs": [
        {
          "output_type": "stream",
          "name": "stdout",
          "text": [
            "\n",
            "Final Training Loss: 2.763 %\n",
            "Final Test Loss: 4.493 %\n"
          ]
        }
      ]
    }
  ]
}