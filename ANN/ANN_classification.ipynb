{
  "nbformat": 4,
  "nbformat_minor": 0,
  "metadata": {
    "colab": {
      "provenance": [],
      "gpuType": "T4"
    },
    "kernelspec": {
      "name": "python3",
      "display_name": "Python 3"
    },
    "language_info": {
      "name": "python"
    },
    "accelerator": "GPU"
  },
  "cells": [
    {
      "cell_type": "code",
      "execution_count": 97,
      "metadata": {
        "colab": {
          "base_uri": "https://localhost:8080/"
        },
        "id": "b4nu9Q-E-xJa",
        "outputId": "01709495-b937-4632-809c-a57dde55b5c0"
      },
      "outputs": [
        {
          "output_type": "stream",
          "name": "stdout",
          "text": [
            "Features:\n",
            " tensor([[ 0.7542,  0.2315],\n",
            "        [-0.7562,  0.1533],\n",
            "        [-0.8154,  0.1733],\n",
            "        [-0.3937,  0.6929],\n",
            "        [ 0.4422, -0.8967]])\n",
            "Labels:\n",
            " tensor([1., 1., 1., 1., 0.])\n"
          ]
        }
      ],
      "source": [
        "# Making data\n",
        "import pandas as pd\n",
        "import numpy as np\n",
        "from sklearn.model_selection import train_test_split\n",
        "import matplotlib.pyplot as plt\n",
        "import torch\n",
        "from torch import nn\n",
        "from sklearn.datasets import make_circles\n",
        "\n",
        "n_samples = 1000\n",
        "torch.manual_seed(42)\n",
        "\n",
        "X, y = make_circles(n_samples, noise=0.03, random_state=42)\n",
        "# X and y are numpy arrays. So, wer converted them into tensors\n",
        "X = torch.from_numpy(X).type(torch.float)\n",
        "y = torch.from_numpy(y).type(torch.float)\n",
        "print(\"Features:\\n\", X[:5])\n",
        "print(\"Labels:\\n\", y[:5])"
      ]
    },
    {
      "cell_type": "markdown",
      "source": [
        "The function make_circles() automatically generates both:\n",
        "\n",
        "X: the feature matrix → 1000 points in 2D space\n",
        "\n",
        "y: the label vector → class label (0 or 1) for each point"
      ],
      "metadata": {
        "id": "PuyIN7E8BNcy"
      }
    },
    {
      "cell_type": "code",
      "source": [
        "# Making a Data Frame from the circle data\n",
        "circles = pd.DataFrame({\"X1\" : X[:, 0],\n",
        "                        \"X2\" : X[:, 1],\n",
        "                        \"label\" : y})\n",
        "circles.head()"
      ],
      "metadata": {
        "colab": {
          "base_uri": "https://localhost:8080/",
          "height": 206
        },
        "id": "hQoIAkrg_-_z",
        "outputId": "cee02611-361c-4687-c257-42553c3bb826"
      },
      "execution_count": 98,
      "outputs": [
        {
          "output_type": "execute_result",
          "data": {
            "text/plain": [
              "         X1        X2  label\n",
              "0  0.754246  0.231481    1.0\n",
              "1 -0.756159  0.153259    1.0\n",
              "2 -0.815392  0.173282    1.0\n",
              "3 -0.393731  0.692883    1.0\n",
              "4  0.442208 -0.896723    0.0"
            ],
            "text/html": [
              "\n",
              "  <div id=\"df-8b432dd5-7d8d-4baa-b62b-45629596e6bc\" class=\"colab-df-container\">\n",
              "    <div>\n",
              "<style scoped>\n",
              "    .dataframe tbody tr th:only-of-type {\n",
              "        vertical-align: middle;\n",
              "    }\n",
              "\n",
              "    .dataframe tbody tr th {\n",
              "        vertical-align: top;\n",
              "    }\n",
              "\n",
              "    .dataframe thead th {\n",
              "        text-align: right;\n",
              "    }\n",
              "</style>\n",
              "<table border=\"1\" class=\"dataframe\">\n",
              "  <thead>\n",
              "    <tr style=\"text-align: right;\">\n",
              "      <th></th>\n",
              "      <th>X1</th>\n",
              "      <th>X2</th>\n",
              "      <th>label</th>\n",
              "    </tr>\n",
              "  </thead>\n",
              "  <tbody>\n",
              "    <tr>\n",
              "      <th>0</th>\n",
              "      <td>0.754246</td>\n",
              "      <td>0.231481</td>\n",
              "      <td>1.0</td>\n",
              "    </tr>\n",
              "    <tr>\n",
              "      <th>1</th>\n",
              "      <td>-0.756159</td>\n",
              "      <td>0.153259</td>\n",
              "      <td>1.0</td>\n",
              "    </tr>\n",
              "    <tr>\n",
              "      <th>2</th>\n",
              "      <td>-0.815392</td>\n",
              "      <td>0.173282</td>\n",
              "      <td>1.0</td>\n",
              "    </tr>\n",
              "    <tr>\n",
              "      <th>3</th>\n",
              "      <td>-0.393731</td>\n",
              "      <td>0.692883</td>\n",
              "      <td>1.0</td>\n",
              "    </tr>\n",
              "    <tr>\n",
              "      <th>4</th>\n",
              "      <td>0.442208</td>\n",
              "      <td>-0.896723</td>\n",
              "      <td>0.0</td>\n",
              "    </tr>\n",
              "  </tbody>\n",
              "</table>\n",
              "</div>\n",
              "    <div class=\"colab-df-buttons\">\n",
              "\n",
              "  <div class=\"colab-df-container\">\n",
              "    <button class=\"colab-df-convert\" onclick=\"convertToInteractive('df-8b432dd5-7d8d-4baa-b62b-45629596e6bc')\"\n",
              "            title=\"Convert this dataframe to an interactive table.\"\n",
              "            style=\"display:none;\">\n",
              "\n",
              "  <svg xmlns=\"http://www.w3.org/2000/svg\" height=\"24px\" viewBox=\"0 -960 960 960\">\n",
              "    <path d=\"M120-120v-720h720v720H120Zm60-500h600v-160H180v160Zm220 220h160v-160H400v160Zm0 220h160v-160H400v160ZM180-400h160v-160H180v160Zm440 0h160v-160H620v160ZM180-180h160v-160H180v160Zm440 0h160v-160H620v160Z\"/>\n",
              "  </svg>\n",
              "    </button>\n",
              "\n",
              "  <style>\n",
              "    .colab-df-container {\n",
              "      display:flex;\n",
              "      gap: 12px;\n",
              "    }\n",
              "\n",
              "    .colab-df-convert {\n",
              "      background-color: #E8F0FE;\n",
              "      border: none;\n",
              "      border-radius: 50%;\n",
              "      cursor: pointer;\n",
              "      display: none;\n",
              "      fill: #1967D2;\n",
              "      height: 32px;\n",
              "      padding: 0 0 0 0;\n",
              "      width: 32px;\n",
              "    }\n",
              "\n",
              "    .colab-df-convert:hover {\n",
              "      background-color: #E2EBFA;\n",
              "      box-shadow: 0px 1px 2px rgba(60, 64, 67, 0.3), 0px 1px 3px 1px rgba(60, 64, 67, 0.15);\n",
              "      fill: #174EA6;\n",
              "    }\n",
              "\n",
              "    .colab-df-buttons div {\n",
              "      margin-bottom: 4px;\n",
              "    }\n",
              "\n",
              "    [theme=dark] .colab-df-convert {\n",
              "      background-color: #3B4455;\n",
              "      fill: #D2E3FC;\n",
              "    }\n",
              "\n",
              "    [theme=dark] .colab-df-convert:hover {\n",
              "      background-color: #434B5C;\n",
              "      box-shadow: 0px 1px 3px 1px rgba(0, 0, 0, 0.15);\n",
              "      filter: drop-shadow(0px 1px 2px rgba(0, 0, 0, 0.3));\n",
              "      fill: #FFFFFF;\n",
              "    }\n",
              "  </style>\n",
              "\n",
              "    <script>\n",
              "      const buttonEl =\n",
              "        document.querySelector('#df-8b432dd5-7d8d-4baa-b62b-45629596e6bc button.colab-df-convert');\n",
              "      buttonEl.style.display =\n",
              "        google.colab.kernel.accessAllowed ? 'block' : 'none';\n",
              "\n",
              "      async function convertToInteractive(key) {\n",
              "        const element = document.querySelector('#df-8b432dd5-7d8d-4baa-b62b-45629596e6bc');\n",
              "        const dataTable =\n",
              "          await google.colab.kernel.invokeFunction('convertToInteractive',\n",
              "                                                    [key], {});\n",
              "        if (!dataTable) return;\n",
              "\n",
              "        const docLinkHtml = 'Like what you see? Visit the ' +\n",
              "          '<a target=\"_blank\" href=https://colab.research.google.com/notebooks/data_table.ipynb>data table notebook</a>'\n",
              "          + ' to learn more about interactive tables.';\n",
              "        element.innerHTML = '';\n",
              "        dataTable['output_type'] = 'display_data';\n",
              "        await google.colab.output.renderOutput(dataTable, element);\n",
              "        const docLink = document.createElement('div');\n",
              "        docLink.innerHTML = docLinkHtml;\n",
              "        element.appendChild(docLink);\n",
              "      }\n",
              "    </script>\n",
              "  </div>\n",
              "\n",
              "\n",
              "    <div id=\"df-7ce44587-5c43-4c72-a99d-f0055aee2c08\">\n",
              "      <button class=\"colab-df-quickchart\" onclick=\"quickchart('df-7ce44587-5c43-4c72-a99d-f0055aee2c08')\"\n",
              "                title=\"Suggest charts\"\n",
              "                style=\"display:none;\">\n",
              "\n",
              "<svg xmlns=\"http://www.w3.org/2000/svg\" height=\"24px\"viewBox=\"0 0 24 24\"\n",
              "     width=\"24px\">\n",
              "    <g>\n",
              "        <path d=\"M19 3H5c-1.1 0-2 .9-2 2v14c0 1.1.9 2 2 2h14c1.1 0 2-.9 2-2V5c0-1.1-.9-2-2-2zM9 17H7v-7h2v7zm4 0h-2V7h2v10zm4 0h-2v-4h2v4z\"/>\n",
              "    </g>\n",
              "</svg>\n",
              "      </button>\n",
              "\n",
              "<style>\n",
              "  .colab-df-quickchart {\n",
              "      --bg-color: #E8F0FE;\n",
              "      --fill-color: #1967D2;\n",
              "      --hover-bg-color: #E2EBFA;\n",
              "      --hover-fill-color: #174EA6;\n",
              "      --disabled-fill-color: #AAA;\n",
              "      --disabled-bg-color: #DDD;\n",
              "  }\n",
              "\n",
              "  [theme=dark] .colab-df-quickchart {\n",
              "      --bg-color: #3B4455;\n",
              "      --fill-color: #D2E3FC;\n",
              "      --hover-bg-color: #434B5C;\n",
              "      --hover-fill-color: #FFFFFF;\n",
              "      --disabled-bg-color: #3B4455;\n",
              "      --disabled-fill-color: #666;\n",
              "  }\n",
              "\n",
              "  .colab-df-quickchart {\n",
              "    background-color: var(--bg-color);\n",
              "    border: none;\n",
              "    border-radius: 50%;\n",
              "    cursor: pointer;\n",
              "    display: none;\n",
              "    fill: var(--fill-color);\n",
              "    height: 32px;\n",
              "    padding: 0;\n",
              "    width: 32px;\n",
              "  }\n",
              "\n",
              "  .colab-df-quickchart:hover {\n",
              "    background-color: var(--hover-bg-color);\n",
              "    box-shadow: 0 1px 2px rgba(60, 64, 67, 0.3), 0 1px 3px 1px rgba(60, 64, 67, 0.15);\n",
              "    fill: var(--button-hover-fill-color);\n",
              "  }\n",
              "\n",
              "  .colab-df-quickchart-complete:disabled,\n",
              "  .colab-df-quickchart-complete:disabled:hover {\n",
              "    background-color: var(--disabled-bg-color);\n",
              "    fill: var(--disabled-fill-color);\n",
              "    box-shadow: none;\n",
              "  }\n",
              "\n",
              "  .colab-df-spinner {\n",
              "    border: 2px solid var(--fill-color);\n",
              "    border-color: transparent;\n",
              "    border-bottom-color: var(--fill-color);\n",
              "    animation:\n",
              "      spin 1s steps(1) infinite;\n",
              "  }\n",
              "\n",
              "  @keyframes spin {\n",
              "    0% {\n",
              "      border-color: transparent;\n",
              "      border-bottom-color: var(--fill-color);\n",
              "      border-left-color: var(--fill-color);\n",
              "    }\n",
              "    20% {\n",
              "      border-color: transparent;\n",
              "      border-left-color: var(--fill-color);\n",
              "      border-top-color: var(--fill-color);\n",
              "    }\n",
              "    30% {\n",
              "      border-color: transparent;\n",
              "      border-left-color: var(--fill-color);\n",
              "      border-top-color: var(--fill-color);\n",
              "      border-right-color: var(--fill-color);\n",
              "    }\n",
              "    40% {\n",
              "      border-color: transparent;\n",
              "      border-right-color: var(--fill-color);\n",
              "      border-top-color: var(--fill-color);\n",
              "    }\n",
              "    60% {\n",
              "      border-color: transparent;\n",
              "      border-right-color: var(--fill-color);\n",
              "    }\n",
              "    80% {\n",
              "      border-color: transparent;\n",
              "      border-right-color: var(--fill-color);\n",
              "      border-bottom-color: var(--fill-color);\n",
              "    }\n",
              "    90% {\n",
              "      border-color: transparent;\n",
              "      border-bottom-color: var(--fill-color);\n",
              "    }\n",
              "  }\n",
              "</style>\n",
              "\n",
              "      <script>\n",
              "        async function quickchart(key) {\n",
              "          const quickchartButtonEl =\n",
              "            document.querySelector('#' + key + ' button');\n",
              "          quickchartButtonEl.disabled = true;  // To prevent multiple clicks.\n",
              "          quickchartButtonEl.classList.add('colab-df-spinner');\n",
              "          try {\n",
              "            const charts = await google.colab.kernel.invokeFunction(\n",
              "                'suggestCharts', [key], {});\n",
              "          } catch (error) {\n",
              "            console.error('Error during call to suggestCharts:', error);\n",
              "          }\n",
              "          quickchartButtonEl.classList.remove('colab-df-spinner');\n",
              "          quickchartButtonEl.classList.add('colab-df-quickchart-complete');\n",
              "        }\n",
              "        (() => {\n",
              "          let quickchartButtonEl =\n",
              "            document.querySelector('#df-7ce44587-5c43-4c72-a99d-f0055aee2c08 button');\n",
              "          quickchartButtonEl.style.display =\n",
              "            google.colab.kernel.accessAllowed ? 'block' : 'none';\n",
              "        })();\n",
              "      </script>\n",
              "    </div>\n",
              "\n",
              "    </div>\n",
              "  </div>\n"
            ],
            "application/vnd.google.colaboratory.intrinsic+json": {
              "type": "dataframe",
              "variable_name": "circles",
              "summary": "{\n  \"name\": \"circles\",\n  \"rows\": 1000,\n  \"fields\": [\n    {\n      \"column\": \"X1\",\n      \"properties\": {\n        \"dtype\": \"float32\",\n        \"num_unique_values\": 1000,\n        \"samples\": [\n          -0.3751930296421051,\n          0.015380347147583961,\n          -0.7027835845947266\n        ],\n        \"semantic_type\": \"\",\n        \"description\": \"\"\n      }\n    },\n    {\n      \"column\": \"X2\",\n      \"properties\": {\n        \"dtype\": \"float32\",\n        \"num_unique_values\": 1000,\n        \"samples\": [\n          0.6826597452163696,\n          0.9600260257720947,\n          -0.31471699476242065\n        ],\n        \"semantic_type\": \"\",\n        \"description\": \"\"\n      }\n    },\n    {\n      \"column\": \"label\",\n      \"properties\": {\n        \"dtype\": \"float32\",\n        \"num_unique_values\": 2,\n        \"samples\": [\n          0.0,\n          1.0\n        ],\n        \"semantic_type\": \"\",\n        \"description\": \"\"\n      }\n    }\n  ]\n}"
            }
          },
          "metadata": {},
          "execution_count": 98
        }
      ]
    },
    {
      "cell_type": "code",
      "source": [
        "circles.label.value_counts()"
      ],
      "metadata": {
        "colab": {
          "base_uri": "https://localhost:8080/",
          "height": 178
        },
        "id": "3iPjVpKVA9jL",
        "outputId": "fa03da2a-b6e0-4a79-9296-4b493c0dacf6"
      },
      "execution_count": 99,
      "outputs": [
        {
          "output_type": "execute_result",
          "data": {
            "text/plain": [
              "label\n",
              "1.0    500\n",
              "0.0    500\n",
              "Name: count, dtype: int64"
            ],
            "text/html": [
              "<div>\n",
              "<style scoped>\n",
              "    .dataframe tbody tr th:only-of-type {\n",
              "        vertical-align: middle;\n",
              "    }\n",
              "\n",
              "    .dataframe tbody tr th {\n",
              "        vertical-align: top;\n",
              "    }\n",
              "\n",
              "    .dataframe thead th {\n",
              "        text-align: right;\n",
              "    }\n",
              "</style>\n",
              "<table border=\"1\" class=\"dataframe\">\n",
              "  <thead>\n",
              "    <tr style=\"text-align: right;\">\n",
              "      <th></th>\n",
              "      <th>count</th>\n",
              "    </tr>\n",
              "    <tr>\n",
              "      <th>label</th>\n",
              "      <th></th>\n",
              "    </tr>\n",
              "  </thead>\n",
              "  <tbody>\n",
              "    <tr>\n",
              "      <th>1.0</th>\n",
              "      <td>500</td>\n",
              "    </tr>\n",
              "    <tr>\n",
              "      <th>0.0</th>\n",
              "      <td>500</td>\n",
              "    </tr>\n",
              "  </tbody>\n",
              "</table>\n",
              "</div><br><label><b>dtype:</b> int64</label>"
            ]
          },
          "metadata": {},
          "execution_count": 99
        }
      ]
    },
    {
      "cell_type": "code",
      "source": [
        "# Visualizing the data\n",
        "plt.scatter(x = X[:, 0],\n",
        "            y = X[:, 1],\n",
        "            c = y,\n",
        "            cmap = plt.cm.RdYlBu)"
      ],
      "metadata": {
        "colab": {
          "base_uri": "https://localhost:8080/",
          "height": 448
        },
        "id": "jUlP-kzuBZa5",
        "outputId": "b80c7ab3-da6b-4035-c0b0-8e31b37c1229"
      },
      "execution_count": 100,
      "outputs": [
        {
          "output_type": "execute_result",
          "data": {
            "text/plain": [
              "<matplotlib.collections.PathCollection at 0x7e1c009c3b10>"
            ]
          },
          "metadata": {},
          "execution_count": 100
        },
        {
          "output_type": "display_data",
          "data": {
            "text/plain": [
              "<Figure size 640x480 with 1 Axes>"
            ],
            "image/png": "[encoded data removed]"
          },
          "metadata": {}
        }
      ]
    },
    {
      "cell_type": "code",
      "source": [
        "X.shape, y.shape"
      ],
      "metadata": {
        "colab": {
          "base_uri": "https://localhost:8080/"
        },
        "id": "rXwh4UU5CAyu",
        "outputId": "42bcb352-d19f-4973-843a-645412b7cb18"
      },
      "execution_count": 101,
      "outputs": [
        {
          "output_type": "execute_result",
          "data": {
            "text/plain": [
              "(torch.Size([1000, 2]), torch.Size([1000]))"
            ]
          },
          "metadata": {},
          "execution_count": 101
        }
      ]
    },
    {
      "cell_type": "code",
      "source": [
        "X_sample = X[0]\n",
        "y_sample = y[0]\n",
        "print(X_sample, y_sample)\n",
        "print(X_sample.shape, y_sample.shape)\n",
        "# This tells us that X is a vector as it has 2 dimensions whereas y has one feature so it is a scalar"
      ],
      "metadata": {
        "colab": {
          "base_uri": "https://localhost:8080/"
        },
        "id": "G6hg01CyCJsR",
        "outputId": "aecf3ee9-461e-4263-b61a-aa2ada6e2b51"
      },
      "execution_count": 102,
      "outputs": [
        {
          "output_type": "stream",
          "name": "stdout",
          "text": [
            "tensor([0.7542, 0.2315]) tensor(1.)\n",
            "torch.Size([2]) torch.Size([])\n"
          ]
        }
      ]
    },
    {
      "cell_type": "code",
      "source": [
        "X_train, X_test, y_train, y_test = train_test_split(X, y, test_size = 0.2, random_state = 42)\n",
        "len(X_train), len(X_test), len(y_train), len(y_test)"
      ],
      "metadata": {
        "colab": {
          "base_uri": "https://localhost:8080/"
        },
        "id": "ntZVdESdDMO7",
        "outputId": "26acfcf0-7136-4381-a554-81b21721cba2"
      },
      "execution_count": 103,
      "outputs": [
        {
          "output_type": "execute_result",
          "data": {
            "text/plain": [
              "(800, 200, 800, 200)"
            ]
          },
          "metadata": {},
          "execution_count": 103
        }
      ]
    },
    {
      "cell_type": "markdown",
      "source": [
        "### Building a Model"
      ],
      "metadata": {
        "id": "J_m45Ps_Dn9k"
      }
    },
    {
      "cell_type": "code",
      "source": [
        "device = 'cuda' if torch.cuda.is_available() else \"cpu\"\n",
        "device"
      ],
      "metadata": {
        "colab": {
          "base_uri": "https://localhost:8080/",
          "height": 36
        },
        "id": "L2j9QscEDqX6",
        "outputId": "8f0ae773-d719-4b2d-b265-3486319e4010"
      },
      "execution_count": 104,
      "outputs": [
        {
          "output_type": "execute_result",
          "data": {
            "text/plain": [
              "'cpu'"
            ],
            "application/vnd.google.colaboratory.intrinsic+json": {
              "type": "string"
            }
          },
          "metadata": {},
          "execution_count": 104
        }
      ]
    },
    {
      "cell_type": "code",
      "source": [
        "# Building an ANN\n",
        "class CircleModel(nn.Module):\n",
        "  def __init__(self):\n",
        "    super().__init__()\n",
        "    self.layer_1 = nn.Linear(in_features = 2,\n",
        "                             out_features = 15)\n",
        "    self.relu1 = nn.ReLU()\n",
        "    self.layer_2 = nn.Linear(in_features = 15,\n",
        "                             out_features = 15)\n",
        "    self.relu2 = nn.ReLU()\n",
        "    self.layer_3 = nn.Linear(in_features = 15,\n",
        "                             out_features = 1)\n",
        "\n",
        "  def forward(self, x):\n",
        "    x = self.relu1(self.layer_1(x))\n",
        "    x = self.relu2(self.layer_2(x))\n",
        "    x = self.layer_3(x)\n",
        "    return x\n",
        "    # Solves layer_1 and its resultant is passed to layer_2"
      ],
      "metadata": {
        "id": "wxfqsQWcD8Tv"
      },
      "execution_count": 105,
      "outputs": []
    },
    {
      "cell_type": "code",
      "source": [
        "model = CircleModel().to(device)\n",
        "model"
      ],
      "metadata": {
        "colab": {
          "base_uri": "https://localhost:8080/"
        },
        "id": "GHq9PfvUHD-a",
        "outputId": "9a5a20e5-2fef-47db-f37b-99acff3fade4"
      },
      "execution_count": 106,
      "outputs": [
        {
          "output_type": "execute_result",
          "data": {
            "text/plain": [
              "CircleModel(\n",
              "  (layer_1): Linear(in_features=2, out_features=15, bias=True)\n",
              "  (relu1): ReLU()\n",
              "  (layer_2): Linear(in_features=15, out_features=15, bias=True)\n",
              "  (relu2): ReLU()\n",
              "  (layer_3): Linear(in_features=15, out_features=1, bias=True)\n",
              ")"
            ]
          },
          "metadata": {},
          "execution_count": 106
        }
      ]
    },
    {
      "cell_type": "code",
      "source": [
        "# Sequential can be used instead of the class above\n",
        "\"\"\"\n",
        "# Replicate CircleModelV0 with nn.Sequential\n",
        "model_0 = nn.Sequential(\n",
        "    nn.Linear(in_features=2, out_features=5),\n",
        "    nn.Linear(in_features=5, out_features=1)\n",
        ").to(device)\n",
        "\n",
        "model_0\n",
        "\"\"\"\n",
        "print(X_train.shape)\n",
        "print(X_test.shape)"
      ],
      "metadata": {
        "colab": {
          "base_uri": "https://localhost:8080/"
        },
        "id": "b20soznJH_j3",
        "outputId": "7eef16a3-30e4-42bd-e29e-ce03e9105584"
      },
      "execution_count": 107,
      "outputs": [
        {
          "output_type": "stream",
          "name": "stdout",
          "text": [
            "torch.Size([800, 2])\n",
            "torch.Size([200, 2])\n"
          ]
        }
      ]
    },
    {
      "cell_type": "code",
      "source": [
        "with torch.inference_mode():\n",
        "  y_pred = model(X_test.to(device))\n",
        "print(f\"Length of predictions : {len(y_pred)}, Shape : {y_pred.shape}\")\n",
        "print(f\"Length of test samples : {len(y_test)}, Shape : {y_test.shape}\")\n",
        "print(f\"\\nFirst 10 predictions:\\n{y_pred[:10]}\")\n",
        "#y_test = y_test.unsqueeze(dim = 1)\n",
        "print(f\"\\nFirst 10 test labels:\\n{y_test[:10]}\")"
      ],
      "metadata": {
        "colab": {
          "base_uri": "https://localhost:8080/"
        },
        "collapsed": true,
        "id": "RYII4JvzI0ds",
        "outputId": "ed85f37b-8c93-4fa2-bf5d-8e2314e3e347"
      },
      "execution_count": 108,
      "outputs": [
        {
          "output_type": "stream",
          "name": "stdout",
          "text": [
            "Length of predictions : 200, Shape : torch.Size([200, 1])\n",
            "Length of test samples : 200, Shape : torch.Size([200])\n",
            "\n",
            "First 10 predictions:\n",
            "tensor([[-0.0267],\n",
            "        [ 0.0155],\n",
            "        [-0.1023],\n",
            "        [ 0.0104],\n",
            "        [-0.0320],\n",
            "        [-0.0332],\n",
            "        [-0.0582],\n",
            "        [-0.0555],\n",
            "        [-0.1033],\n",
            "        [ 0.0174]])\n",
            "\n",
            "First 10 test labels:\n",
            "tensor([1., 0., 1., 0., 1., 1., 0., 0., 1., 0.])\n"
          ]
        }
      ]
    },
    {
      "cell_type": "code",
      "source": [
        "loss_fn = nn.BCEWithLogitsLoss() # Uses the sigmoid function (Better for probabilities)\n",
        "optimizer = torch.optim.SGD(params = model.parameters(), lr=0.1)"
      ],
      "metadata": {
        "id": "Y3TkUkXrKPVU"
      },
      "execution_count": 109,
      "outputs": []
    },
    {
      "cell_type": "markdown",
      "source": [
        "# Evaluation Metric for accuracy"
      ],
      "metadata": {
        "id": "SvzXoL1nL_3d"
      }
    },
    {
      "cell_type": "code",
      "source": [
        "def accuracy_fn(y_true, y_pred):\n",
        "  correct = torch.eq(y_true, y_pred).sum().item()\n",
        "  acc = (correct / len(y_pred)) * 100\n",
        "  return acc"
      ],
      "metadata": {
        "id": "C3bWjNY9KPW5"
      },
      "execution_count": 110,
      "outputs": []
    },
    {
      "cell_type": "code",
      "source": [
        "# Forward pass - full test set\n",
        "with torch.inference_mode():\n",
        "  # To.device send the model to train in the gpu unit as it is fater compared to the cpu\n",
        "    y_logits = model(X_test.to(device))  # We obtain the logits\n",
        "    y_pred_probs = torch.sigmoid(y_logits) # We find the probabilities from the obtained logits through the sigmoid function\n",
        "    y_pred_labels = torch.round(y_pred_probs) # We're rounding off the probabilities\n",
        "\n",
        "    \"\"\"\n",
        "The goal of this block is to:\n",
        "\n",
        "✅ Understand what your model is outputting.\n",
        "✅ See the raw model output (logits).\n",
        "✅ Convert logits to probabilities → using sigmoid.\n",
        "✅ Convert probabilities to predicted labels → using round.\n",
        "    \"\"\"\n",
        "\n",
        "# Check shapes\n",
        "print(f\"y_pred_labels shape: {y_pred_labels.shape}\")\n",
        "print(f\"y_test shape: {y_test.shape}\")\n",
        "\n",
        "# Squeeze both for comparison (if needed)\n",
        "y_pred_labels_temp = y_pred_labels.squeeze()\n",
        "y_test_temp = y_test.to(device).squeeze()\n",
        "\n",
        "# Check equality\n",
        "print(torch.eq(y_test_temp, y_pred_labels_temp))\n",
        "\n",
        "# Print first 10 predictions and labels\n",
        "print(f\"\\nFirst 10 predictions:\\n{y_pred_labels_temp[:10]}\")\n",
        "print(f\"\\nFirst 10 test labels:\\n{y_test_temp[:10]}\")\n"
      ],
      "metadata": {
        "colab": {
          "base_uri": "https://localhost:8080/"
        },
        "id": "D2vBWRd-QfiV",
        "outputId": "02dffbf0-6aeb-45f3-e091-de183e6a6492"
      },
      "execution_count": 111,
      "outputs": [
        {
          "output_type": "stream",
          "name": "stdout",
          "text": [
            "y_pred_labels shape: torch.Size([200, 1])\n",
            "y_test shape: torch.Size([200])\n",
            "tensor([False, False, False, False, False, False,  True,  True, False, False,\n",
            "         True, False,  True, False,  True, False, False,  True, False,  True,\n",
            "        False,  True, False,  True,  True,  True,  True,  True,  True, False,\n",
            "        False,  True,  True, False,  True, False, False, False, False, False,\n",
            "        False, False, False,  True, False,  True,  True, False, False, False,\n",
            "        False, False,  True,  True, False,  True, False, False, False,  True,\n",
            "        False,  True,  True, False, False, False, False,  True, False,  True,\n",
            "        False, False,  True, False, False, False, False,  True,  True, False,\n",
            "         True, False,  True, False, False, False,  True,  True,  True,  True,\n",
            "        False, False, False, False, False,  True, False, False,  True, False,\n",
            "        False,  True, False, False,  True,  True, False,  True,  True, False,\n",
            "        False, False,  True, False, False,  True, False,  True, False,  True,\n",
            "        False,  True,  True, False, False,  True, False, False, False, False,\n",
            "        False,  True, False, False,  True,  True, False,  True,  True, False,\n",
            "         True,  True,  True, False,  True,  True, False,  True, False, False,\n",
            "        False,  True, False,  True, False, False, False,  True,  True, False,\n",
            "        False, False, False,  True, False,  True,  True,  True,  True, False,\n",
            "        False, False, False,  True,  True,  True,  True,  True, False,  True,\n",
            "         True, False,  True, False, False,  True, False,  True, False, False,\n",
            "         True, False, False,  True, False,  True, False,  True, False, False])\n",
            "\n",
            "First 10 predictions:\n",
            "tensor([0., 1., 0., 1., 0., 0., 0., 0., 0., 1.])\n",
            "\n",
            "First 10 test labels:\n",
            "tensor([1., 0., 1., 0., 1., 1., 0., 0., 1., 0.])\n"
          ]
        }
      ]
    },
    {
      "cell_type": "markdown",
      "source": [
        "### Training and Testing loop"
      ],
      "metadata": {
        "id": "ppgwy60HdNJz"
      }
    },
    {
      "cell_type": "code",
      "source": [
        "epochs = 1000\n",
        "\n",
        "X_train, y_train = X_train.to(device), y_train.to(device)\n",
        "X_test, y_test = X_test.to(device), y_test.to(device)\n",
        "\n",
        "for epoch in range(epochs):\n",
        "  model.train()\n",
        "\n",
        "  # Forward passing\n",
        "  y_logits = model(X_train).squeeze()\n",
        "  y_pred = torch.round(torch.sigmoid(y_logits))\n",
        "\n",
        "  # Calculating loss\n",
        "  loss = loss_fn(y_logits, y_train)\n",
        "  acc = accuracy_fn(y_true=y_train,\n",
        "                    y_pred=y_pred)\n",
        "\n",
        "  # Optimizer zero grad\n",
        "  optimizer.zero_grad()\n",
        "\n",
        "  # Loss backwards\n",
        "  loss.backward()\n",
        "\n",
        "  # Optimizer step\n",
        "  optimizer.step()\n",
        "\n",
        "  # Testing\n",
        "  model.eval()\n",
        "  with torch.inference_mode():\n",
        "\n",
        "    test_logits = model(X_test).squeeze( )\n",
        "    test_pred = torch.round(torch.sigmoid(test_logits))\n",
        "\n",
        "    test_loss = loss_fn(test_logits, y_test)\n",
        "    test_acc = accuracy_fn(y_true=y_test,\n",
        "                           y_pred=test_pred)\n",
        "  if epoch % 20 == 0:\n",
        "    print(f\"Epoch : {epoch}  | Loss : {loss:.4f}  | Test Loss : {test_loss:.4f}\")"
      ],
      "metadata": {
        "colab": {
          "base_uri": "https://localhost:8080/"
        },
        "id": "J9krE0x2dMhO",
        "outputId": "895047ac-e301-445a-d766-9591718bf5c0"
      },
      "execution_count": 112,
      "outputs": [
        {
          "output_type": "stream",
          "name": "stdout",
          "text": [
            "Epoch : 0  | Loss : 0.6939  | Test Loss : 0.6949\n",
            "Epoch : 20  | Loss : 0.6928  | Test Loss : 0.6940\n",
            "Epoch : 40  | Loss : 0.6919  | Test Loss : 0.6933\n",
            "Epoch : 60  | Loss : 0.6904  | Test Loss : 0.6922\n",
            "Epoch : 80  | Loss : 0.6896  | Test Loss : 0.6915\n",
            "Epoch : 100  | Loss : 0.6889  | Test Loss : 0.6909\n",
            "Epoch : 120  | Loss : 0.6882  | Test Loss : 0.6903\n",
            "Epoch : 140  | Loss : 0.6874  | Test Loss : 0.6897\n",
            "Epoch : 160  | Loss : 0.6867  | Test Loss : 0.6891\n",
            "Epoch : 180  | Loss : 0.6859  | Test Loss : 0.6884\n",
            "Epoch : 200  | Loss : 0.6850  | Test Loss : 0.6877\n",
            "Epoch : 220  | Loss : 0.6841  | Test Loss : 0.6870\n",
            "Epoch : 240  | Loss : 0.6831  | Test Loss : 0.6862\n",
            "Epoch : 260  | Loss : 0.6820  | Test Loss : 0.6855\n",
            "Epoch : 280  | Loss : 0.6809  | Test Loss : 0.6847\n",
            "Epoch : 300  | Loss : 0.6797  | Test Loss : 0.6838\n",
            "Epoch : 320  | Loss : 0.6784  | Test Loss : 0.6829\n",
            "Epoch : 340  | Loss : 0.6770  | Test Loss : 0.6818\n",
            "Epoch : 360  | Loss : 0.6753  | Test Loss : 0.6805\n",
            "Epoch : 380  | Loss : 0.6735  | Test Loss : 0.6791\n",
            "Epoch : 400  | Loss : 0.6716  | Test Loss : 0.6776\n",
            "Epoch : 420  | Loss : 0.6694  | Test Loss : 0.6759\n",
            "Epoch : 440  | Loss : 0.6669  | Test Loss : 0.6739\n",
            "Epoch : 460  | Loss : 0.6642  | Test Loss : 0.6717\n",
            "Epoch : 480  | Loss : 0.6612  | Test Loss : 0.6692\n",
            "Epoch : 500  | Loss : 0.6580  | Test Loss : 0.6664\n",
            "Epoch : 520  | Loss : 0.6544  | Test Loss : 0.6633\n",
            "Epoch : 540  | Loss : 0.6503  | Test Loss : 0.6599\n",
            "Epoch : 560  | Loss : 0.6458  | Test Loss : 0.6560\n",
            "Epoch : 580  | Loss : 0.6406  | Test Loss : 0.6515\n",
            "Epoch : 600  | Loss : 0.6348  | Test Loss : 0.6463\n",
            "Epoch : 620  | Loss : 0.6281  | Test Loss : 0.6403\n",
            "Epoch : 640  | Loss : 0.6205  | Test Loss : 0.6335\n",
            "Epoch : 660  | Loss : 0.6120  | Test Loss : 0.6258\n",
            "Epoch : 680  | Loss : 0.6023  | Test Loss : 0.6172\n",
            "Epoch : 700  | Loss : 0.5915  | Test Loss : 0.6076\n",
            "Epoch : 720  | Loss : 0.5794  | Test Loss : 0.5967\n",
            "Epoch : 740  | Loss : 0.5658  | Test Loss : 0.5845\n",
            "Epoch : 760  | Loss : 0.5506  | Test Loss : 0.5710\n",
            "Epoch : 780  | Loss : 0.5338  | Test Loss : 0.5559\n",
            "Epoch : 800  | Loss : 0.5152  | Test Loss : 0.5393\n",
            "Epoch : 820  | Loss : 0.4950  | Test Loss : 0.5212\n",
            "Epoch : 840  | Loss : 0.4730  | Test Loss : 0.5016\n",
            "Epoch : 860  | Loss : 0.4496  | Test Loss : 0.4805\n",
            "Epoch : 880  | Loss : 0.4247  | Test Loss : 0.4581\n",
            "Epoch : 900  | Loss : 0.3989  | Test Loss : 0.4347\n",
            "Epoch : 920  | Loss : 0.3723  | Test Loss : 0.4105\n",
            "Epoch : 940  | Loss : 0.3452  | Test Loss : 0.3852\n",
            "Epoch : 960  | Loss : 0.3183  | Test Loss : 0.3595\n",
            "Epoch : 980  | Loss : 0.2921  | Test Loss : 0.3341\n"
          ]
        }
      ]
    },
    {
      "cell_type": "code",
      "source": [
        "def plot_predictions(\n",
        "    train_data, train_labels, test_data, test_labels, predictions=None\n",
        "):\n",
        "    \"\"\"\n",
        "  Plots linear training data and test data and compares predictions.\n",
        "  \"\"\"\n",
        "    plt.figure(figsize=(10, 7))\n",
        "\n",
        "    # Plot training data in blue\n",
        "    plt.scatter(train_data, train_labels, c=\"b\", s=4, label=\"Training data\")\n",
        "\n",
        "    # Plot test data in green\n",
        "    plt.scatter(test_data, test_labels, c=\"g\", s=4, label=\"Testing data\")\n",
        "\n",
        "    if predictions is not None:\n",
        "        # Plot the predictions in red (predictions were made on the test data)\n",
        "        plt.scatter(test_data, predictions, c=\"r\", s=4, label=\"Predictions\")\n",
        "\n",
        "    # Show the legend\n",
        "    plt.legend(prop={\"size\": 14})\n",
        "\n",
        "def plot_decision_boundary(model: torch.nn.Module, X: torch.Tensor, y: torch.Tensor):\n",
        "    \"\"\"Plots decision boundaries of model predicting on X in comparison to y.\n",
        "\n",
        "    Source - https://madewithml.com/courses/foundations/neural-networks/ (with modifications)\n",
        "    \"\"\"\n",
        "    # Put everything to CPU (works better with NumPy + Matplotlib)\n",
        "    model.to(\"cpu\")\n",
        "    X, y = X.to(\"cpu\"), y.to(\"cpu\")\n",
        "\n",
        "    # Setup prediction boundaries and grid\n",
        "    x_min, x_max = X[:, 0].min() - 0.1, X[:, 0].max() + 0.1\n",
        "    y_min, y_max = X[:, 1].min() - 0.1, X[:, 1].max() + 0.1\n",
        "    xx, yy = np.meshgrid(np.linspace(x_min, x_max, 101), np.linspace(y_min, y_max, 101))\n",
        "\n",
        "    # Make features\n",
        "    X_to_pred_on = torch.from_numpy(np.column_stack((xx.ravel(), yy.ravel()))).float()\n",
        "\n",
        "    # Make predictions\n",
        "    model.eval()\n",
        "    with torch.inference_mode():\n",
        "        y_logits = model(X_to_pred_on)\n",
        "\n",
        "    # Test for multi-class or binary and adjust logits to prediction labels\n",
        "    if len(torch.unique(y)) > 2:\n",
        "        y_pred = torch.softmax(y_logits, dim=1).argmax(dim=1)  # mutli-class\n",
        "    else:\n",
        "        y_pred = torch.round(torch.sigmoid(y_logits))  # binary\n",
        "\n",
        "    # Reshape preds and plot\n",
        "    y_pred = y_pred.reshape(xx.shape).detach().numpy()\n",
        "    plt.contourf(xx, yy, y_pred, cmap=plt.cm.RdYlBu, alpha=0.7)\n",
        "    plt.scatter(X[:, 0], X[:, 1], c=y, s=40, cmap=plt.cm.RdYlBu)\n",
        "    plt.xlim(xx.min(), xx.max())\n",
        "    plt.ylim(yy.min(), yy.max())"
      ],
      "metadata": {
        "id": "_AQr1UmVij9y"
      },
      "execution_count": 113,
      "outputs": []
    },
    {
      "cell_type": "code",
      "source": [
        "plot_decision_boundary(model, X, y)\n",
        "plt.title(\"Decision Boundary\")\n",
        "plt.show"
      ],
      "metadata": {
        "colab": {
          "base_uri": "https://localhost:8080/",
          "height": 622
        },
        "id": "rbeU8phZouP-",
        "outputId": "6eda5b07-ee9b-470f-d189-1025c725f044"
      },
      "execution_count": 114,
      "outputs": [
        {
          "output_type": "execute_result",
          "data": {
            "text/plain": [
              "<function matplotlib.pyplot.show(close=None, block=None)>"
            ],
            "text/html": [
              "<div style=\"max-width:800px; border: 1px solid var(--colab-border-color);\"><style>\n",
              "      pre.function-repr-contents {\n",
              "        overflow-x: auto;\n",
              "        padding: 8px 12px;\n",
              "        max-height: 500px;\n",
              "      }\n",
              "\n",
              "      pre.function-repr-contents.function-repr-contents-collapsed {\n",
              "        cursor: pointer;\n",
              "        max-height: 100px;\n",
              "      }\n",
              "    </style>\n",
              "    <pre style=\"white-space: initial; background:\n",
              "         var(--colab-secondary-surface-color); padding: 8px 12px;\n",
              "         border-bottom: 1px solid var(--colab-border-color);\"><b>matplotlib.pyplot.show</b><br/>def show(*args, **kwargs) -&gt; None</pre><pre class=\"function-repr-contents function-repr-contents-collapsed\" style=\"\"><a class=\"filepath\" style=\"display:none\" href=\"#\">/usr/local/lib/python3.11/dist-packages/matplotlib/pyplot.py</a>Display all open figures.\n",
              "\n",
              "Parameters\n",
              "----------\n",
              "block : bool, optional\n",
              "    Whether to wait for all figures to be closed before returning.\n",
              "\n",
              "    If `True` block and run the GUI main loop until all figure windows\n",
              "    are closed.\n",
              "\n",
              "    If `False` ensure that all figure windows are displayed and return\n",
              "    immediately.  In this case, you are responsible for ensuring\n",
              "    that the event loop is running to have responsive figures.\n",
              "\n",
              "    Defaults to True in non-interactive mode and to False in interactive\n",
              "    mode (see `.pyplot.isinteractive`).\n",
              "\n",
              "See Also\n",
              "--------\n",
              "ion : Enable interactive mode, which shows / updates the figure after\n",
              "      every plotting command, so that calling ``show()`` is not necessary.\n",
              "ioff : Disable interactive mode.\n",
              "savefig : Save the figure to an image file instead of showing it on screen.\n",
              "\n",
              "Notes\n",
              "-----\n",
              "**Saving figures to file and showing a window at the same time**\n",
              "\n",
              "If you want an image file as well as a user interface window, use\n",
              "`.pyplot.savefig` before `.pyplot.show`. At the end of (a blocking)\n",
              "``show()`` the figure is closed and thus unregistered from pyplot. Calling\n",
              "`.pyplot.savefig` afterwards would save a new and thus empty figure. This\n",
              "limitation of command order does not apply if the show is non-blocking or\n",
              "if you keep a reference to the figure and use `.Figure.savefig`.\n",
              "\n",
              "**Auto-show in jupyter notebooks**\n",
              "\n",
              "The jupyter backends (activated via ``%matplotlib inline``,\n",
              "``%matplotlib notebook``, or ``%matplotlib widget``), call ``show()`` at\n",
              "the end of every cell by default. Thus, you usually don&#x27;t have to call it\n",
              "explicitly there.</pre>\n",
              "      <script>\n",
              "      if (google.colab.kernel.accessAllowed && google.colab.files && google.colab.files.view) {\n",
              "        for (const element of document.querySelectorAll('.filepath')) {\n",
              "          element.style.display = 'block'\n",
              "          element.onclick = (event) => {\n",
              "            event.preventDefault();\n",
              "            event.stopPropagation();\n",
              "            google.colab.files.view(element.textContent, 569);\n",
              "          };\n",
              "        }\n",
              "      }\n",
              "      for (const element of document.querySelectorAll('.function-repr-contents')) {\n",
              "        element.onclick = (event) => {\n",
              "          event.preventDefault();\n",
              "          event.stopPropagation();\n",
              "          element.classList.toggle('function-repr-contents-collapsed');\n",
              "        };\n",
              "      }\n",
              "      </script>\n",
              "      </div>"
            ]
          },
          "metadata": {},
          "execution_count": 114
        },
        {
          "output_type": "display_data",
          "data": {
            "text/plain": [
              "<Figure size 640x480 with 1 Axes>"
            ],
            "image/png": "[encoded data removed]"
          },
          "metadata": {}
        }
      ]
    }
  ]
}