{
  "nbformat": 4,
  "nbformat_minor": 0,
  "metadata": {
    "colab": {
      "provenance": [],
      "gpuType": "T4"
    },
    "kernelspec": {
      "name": "python3",
      "display_name": "Python 3"
    },
    "language_info": {
      "name": "python"
    },
    "accelerator": "GPU"
  },
  "cells": [
    {
      "cell_type": "code",
      "execution_count": null,
      "metadata": {
        "id": "-o-uT4V_Izjx"
      },
      "outputs": [],
      "source": [
        "import torch\n",
        "from torch import nn\n",
        "import numpy as np\n",
        "import random\n",
        "import pandas as pd\n",
        "import matplotlib.pyplot as plt\n",
        "from sklearn.model_selection import train_test_split\n",
        "import seaborn as sns\n",
        "from sklearn.metrics import confusion_matrix, accuracy_score, ConfusionMatrixDisplay, classification_report, precision_score, recall_score, f1_score\n",
        "from sklearn.compose import ColumnTransformer\n",
        "from sklearn.preprocessing import StandardScaler, OneHotEncoder, OrdinalEncoder, LabelEncoder"
      ]
    },
    {
      "cell_type": "code",
      "source": [
        "def set_seed(seed):\n",
        "    random.seed(seed)\n",
        "    np.random.seed(seed)\n",
        "    torch.manual_seed(seed)\n",
        "    if torch.cuda.is_available():\n",
        "        torch.cuda.manual_seed_all(seed)\n",
        "\n",
        "set_seed(0)"
      ],
      "metadata": {
        "id": "JtW4I9gL6nBE"
      },
      "execution_count": null,
      "outputs": []
    },
    {
      "cell_type": "code",
      "source": [
        "df = pd.read_csv(\"WA_Fn-UseC_-Telco-Customer-Churn.csv\")\n",
        "df.describe()"
      ],
      "metadata": {
        "id": "xrq_9PGsJpcz"
      },
      "execution_count": null,
      "outputs": []
    },
    {
      "cell_type": "code",
      "source": [
        "df.isnull().sum()"
      ],
      "metadata": {
        "id": "NYmhZoRVPMbl"
      },
      "execution_count": null,
      "outputs": []
    },
    {
      "cell_type": "code",
      "source": [
        "df"
      ],
      "metadata": {
        "id": "a88pwH7Nghjb"
      },
      "execution_count": null,
      "outputs": []
    },
    {
      "cell_type": "code",
      "source": [
        "df['Churn'].value_counts(normalize = False)"
      ],
      "metadata": {
        "id": "kequgwbk47KE"
      },
      "execution_count": null,
      "outputs": []
    },
    {
      "cell_type": "code",
      "source": [
        "df['TotalCharges'] = pd.to_numeric(df['TotalCharges'], errors='coerce')\n",
        "df = df.dropna(subset=['TotalCharges'])"
      ],
      "metadata": {
        "id": "Wk8M78RRKHIb"
      },
      "execution_count": null,
      "outputs": []
    },
    {
      "cell_type": "code",
      "source": [
        "df['PaperlessBilling'].value_counts(normalize = False)"
      ],
      "metadata": {
        "id": "v_W0kp1iaj9x"
      },
      "execution_count": null,
      "outputs": []
    },
    {
      "cell_type": "code",
      "source": [
        "df['gender'].value_counts(normalize = False) # 0 x"
      ],
      "metadata": {
        "id": "poTncZmmWP0M"
      },
      "execution_count": null,
      "outputs": []
    },
    {
      "cell_type": "code",
      "source": [
        "df['InternetService'].value_counts(normalize=False) # 7"
      ],
      "metadata": {
        "id": "WBjZIaC2Ozk6"
      },
      "execution_count": null,
      "outputs": []
    },
    {
      "cell_type": "code",
      "source": [
        "df['MultipleLines'].value_counts(normalize=False) # 6"
      ],
      "metadata": {
        "id": "kjIzae0_Njwg"
      },
      "execution_count": null,
      "outputs": []
    },
    {
      "cell_type": "code",
      "source": [
        "df['Contract'].value_counts(normalize = False)# 14"
      ],
      "metadata": {
        "id": "NhIPJEysUHug"
      },
      "execution_count": null,
      "outputs": []
    },
    {
      "cell_type": "code",
      "source": [
        "df['PaymentMethod'].value_counts(normalize = False) # 16"
      ],
      "metadata": {
        "id": "eopQ7QHnUZ9o"
      },
      "execution_count": null,
      "outputs": []
    },
    {
      "cell_type": "code",
      "source": [
        "df['TotalCharges'].isnull().sum()"
      ],
      "metadata": {
        "id": "nY32gSt5cFxG"
      },
      "execution_count": null,
      "outputs": []
    },
    {
      "cell_type": "code",
      "source": [
        "X = df.iloc[:, 1:-1]\n",
        "y = df.iloc[:, -1].values"
      ],
      "metadata": {
        "id": "BOGAGI84gpfB"
      },
      "execution_count": null,
      "outputs": []
    },
    {
      "cell_type": "code",
      "source": [
        "le = LabelEncoder()\n",
        "y = le.fit_transform(y)"
      ],
      "metadata": {
        "id": "T4iUHFJjhuvP"
      },
      "execution_count": null,
      "outputs": []
    },
    {
      "cell_type": "markdown",
      "source": [
        "# Splitting and Encoding the Data"
      ],
      "metadata": {
        "id": "IU_fh-dhePs8"
      }
    },
    {
      "cell_type": "code",
      "source": [
        "X_train, X_test, y_train, y_test = train_test_split(X, y, test_size = 0.2, random_state = 0)"
      ],
      "metadata": {
        "id": "BjsvQvO5eI99"
      },
      "execution_count": null,
      "outputs": []
    },
    {
      "cell_type": "code",
      "source": [
        "# Encoding Categorical and Labeled data\n",
        "categorical_data = ['MultipleLines', 'InternetService', 'Contract', 'PaymentMethod']\n",
        "label_encoding_cols = ['gender', 'Partner', 'Dependents', 'PhoneService',\n",
        "                'OnlineSecurity', 'OnlineBackup', 'DeviceProtection',\n",
        "                'TechSupport', 'StreamingTV', 'StreamingMovies', 'PaperlessBilling']\n",
        "numeric_cols = ['tenure', 'MonthlyCharges', 'TotalCharges']\n",
        "\n",
        "ct = ColumnTransformer(transformers=[('encoder', OneHotEncoder(), categorical_data),\n",
        "                                     ('ordinal', OrdinalEncoder(), label_encoding_cols),\n",
        "                                     ('num', StandardScaler(), numeric_cols)], remainder = \"passthrough\")\n",
        "\n",
        "X_train = ct.fit_transform(X_train)\n",
        "X_test = ct.transform(X_test)"
      ],
      "metadata": {
        "id": "-YlYbCOwV4oO"
      },
      "execution_count": null,
      "outputs": []
    },
    {
      "cell_type": "code",
      "source": [
        "y_train = torch.tensor(y_train, dtype=torch.float32).unsqueeze(1)\n",
        "y_test = torch.tensor(y_test, dtype=torch.float32).unsqueeze(1)\n",
        "X_train = torch.tensor(X_train, dtype = torch.float32)\n",
        "X_test = torch.tensor(X_test, dtype = torch.float32)"
      ],
      "metadata": {
        "id": "q4PzUPFGiqBC"
      },
      "execution_count": null,
      "outputs": []
    },
    {
      "cell_type": "code",
      "source": [
        "X_train.shape"
      ],
      "metadata": {
        "id": "rT3nKKVhkAjK"
      },
      "execution_count": null,
      "outputs": []
    },
    {
      "cell_type": "markdown",
      "source": [
        "# Models\n"
      ],
      "metadata": {
        "id": "DfOD95dYjYFS"
      }
    },
    {
      "cell_type": "code",
      "source": [
        "X_train.shape[1]"
      ],
      "metadata": {
        "id": "Ss_ot2nIx7w-"
      },
      "execution_count": null,
      "outputs": []
    },
    {
      "cell_type": "code",
      "source": [
        "class ChurnModel(nn.Module):\n",
        "  def __init__(self):\n",
        "    super().__init__()\n",
        "    self.layer_1 = nn.Linear(28, 128)\n",
        "    self.relu1 = nn.ReLU()\n",
        "\n",
        "    self.layer_2 = nn.Linear(128, 128)\n",
        "    self.relu2 = nn.ReLU()\n",
        "\n",
        "    self.layer_3 = nn.Linear(128, 128)\n",
        "    self.relu3 = nn.ReLU()\n",
        "\n",
        "    self.layer_4 = nn.Linear(128, 1)\n",
        "\n",
        "  def forward(self, x):\n",
        "    x = self.relu1(self.layer_1(x))\n",
        "    x = self.relu2(self.layer_2(x))\n",
        "    x = self.layer_4(self.layer_3(x))\n",
        "    return x"
      ],
      "metadata": {
        "id": "TtwH2bdqjDpR"
      },
      "execution_count": null,
      "outputs": []
    },
    {
      "cell_type": "code",
      "source": [
        "class ChurnModelV2(nn.Module):\n",
        "  def __init__(self):\n",
        "    super().__init__()\n",
        "    self.layer_1 = nn.Linear(28, 128)\n",
        "    self.batchnorm1 = nn.BatchNorm1d(num_features=128)\n",
        "    self.relu1 = nn.ReLU()\n",
        "    self.dropout1 = nn.Dropout(p=0.2)\n",
        "\n",
        "    self.layer_2 = nn.Linear(128, 128)\n",
        "    self.batchnorm2 = nn.BatchNorm1d(num_features=128)\n",
        "    self.relu2 = nn.ReLU()\n",
        "    self.dropout2 = nn.Dropout(p=0.2)\n",
        "\n",
        "    self.layer_3 = nn.Linear(128, 1)\n",
        "\n",
        "  def forward(self, x):\n",
        "    x = self.batchnorm1(self.layer_1(x))\n",
        "    x = self.relu1(x)\n",
        "    x = self.dropout1(x)\n",
        "\n",
        "    x = self.batchnorm2(self.layer_2(x))\n",
        "    x = self.relu2(x)\n",
        "    x = self.dropout2(x)\n",
        "\n",
        "    x = self.layer_3(x)\n",
        "    return x\n"
      ],
      "metadata": {
        "id": "IHw7h9Lz7u5O"
      },
      "execution_count": null,
      "outputs": []
    },
    {
      "cell_type": "code",
      "source": [
        "class ChurnModelV3(nn.Module):\n",
        "  def __init__(self):\n",
        "    super().__init__()\n",
        "    self.layer_1 = nn.Linear(28, 128)\n",
        "    self.relu1 = nn.ReLU()\n",
        "\n",
        "    self.layer_2 = nn.Linear(128, 128)\n",
        "    self.relu2 = nn.ReLU()\n",
        "\n",
        "    self.layer_3 = nn.Linear(128, 128)\n",
        "\n",
        "    self.layer_4 = nn.Linear(128, 1)\n",
        "    self.sigmoid = nn.Sigmoid()\n",
        "\n",
        "  def forward(self, x):\n",
        "    x = self.relu1(self.layer_1(x))\n",
        "    x = self.relu2(self.layer_2(x))\n",
        "    x = self.layer_4(self.layer_3(x))\n",
        "    x = self.sigmoid(x)\n",
        "    return x"
      ],
      "metadata": {
        "id": "THTZ7qCE4vg8"
      },
      "execution_count": null,
      "outputs": []
    },
    {
      "cell_type": "code",
      "source": [
        "class ChurnModelV4(nn.Module):\n",
        "  def __init__(self):\n",
        "    super().__init__()\n",
        "    self.layer_1 = nn.Linear(28, 128)\n",
        "    self.batchnorm1 = nn.BatchNorm1d(num_features=128)\n",
        "    self.relu1 = nn.ReLU()\n",
        "    self.dropout1 = nn.Dropout(p = 0.2)\n",
        "\n",
        "    self.layer_2 = nn.Linear(128, 128)\n",
        "    self.batchnorm2 = nn.BatchNorm1d(num_features=128)\n",
        "    self.relu2 = nn.ReLU()\n",
        "    self.dropout2 = nn.Dropout(p = 0.2)\n",
        "\n",
        "    self.layer_3 = nn.Linear(128, 1)\n",
        "    self.sigmoid = nn.Sigmoid()\n",
        "\n",
        "  def forward(self, x):\n",
        "    x = self.batchnorm1(self.layer_1(x))\n",
        "    x = self.relu1(x)\n",
        "    x = self.dropout1(x)\n",
        "\n",
        "    x = self.batchnorm2(self.layer_2(x))\n",
        "    x = self.relu2(x)\n",
        "    x = self.dropout2(x)\n",
        "\n",
        "    x = self.layer_3(x)\n",
        "    x = self.sigmoid(x)\n",
        "    return x"
      ],
      "metadata": {
        "id": "mlqvASf-lOEX"
      },
      "execution_count": null,
      "outputs": []
    },
    {
      "cell_type": "code",
      "source": [
        "class ChurnModelV5(nn.Module):\n",
        "  def __init__(self):\n",
        "    super().__init__()\n",
        "    self.layer_1 = nn.Linear(28, 128)\n",
        "    self.LeakyRelu1 = nn.LeakyReLU()\n",
        "\n",
        "    self.layer_2 = nn.Linear(128, 128)\n",
        "    self.LeakyRelu2 = nn.LeakyReLU()\n",
        "\n",
        "    self.layer_3 = nn.Linear(128, 1)\n",
        "\n",
        "  def forward(self, x):\n",
        "    x = self.LeakyRelu1(self.layer_1(x))\n",
        "    x = self.LeakyRelu2(self.layer_2(x))\n",
        "    x = self.layer_3(x)\n",
        "    return x"
      ],
      "metadata": {
        "id": "Vfx3lRlOF9mI"
      },
      "execution_count": null,
      "outputs": []
    },
    {
      "cell_type": "code",
      "source": [
        "class ChurnModelV6(nn.Module):\n",
        "  def __init__(self):\n",
        "    super().__init__()\n",
        "    self.layer_1 = nn.Linear(28, 128)\n",
        "    self.batchnorm1 = nn.BatchNorm1d(num_features=128)\n",
        "    self.relu1 = nn.LeakyReLU()\n",
        "    self.dropout1 = nn.Dropout(p = 0.2)\n",
        "\n",
        "    self.layer_2 = nn.Linear(128, 128)\n",
        "    self.batchnorm2 = nn.BatchNorm1d(num_features=128)\n",
        "    self.relu2 = nn.LeakyReLU()\n",
        "    self.dropout2 = nn.Dropout(p = 0.2)\n",
        "\n",
        "    self.layer_3 = nn.Linear(128, 1)\n",
        "    self.sigmoid = nn.Sigmoid()\n",
        "\n",
        "  def forward(self, x):\n",
        "    x = self.batchnorm1(self.layer_1(x))\n",
        "    x = self.relu1(x)\n",
        "    x = self.dropout1(x)\n",
        "\n",
        "    x = self.batchnorm2(self.layer_2(x))\n",
        "    x = self.relu2(x)\n",
        "    x = self.dropout2(x)\n",
        "\n",
        "    x = self.layer_3(x)\n",
        "    x = self.sigmoid(x)\n",
        "    return x"
      ],
      "metadata": {
        "id": "ENxoStzjG1sI"
      },
      "execution_count": null,
      "outputs": []
    },
    {
      "cell_type": "code",
      "source": [
        "class ChurnModelV7(nn.Module):\n",
        "  def __init__(self):\n",
        "    super().__init__()\n",
        "    self.layer_1 = nn.Linear(28, 128)\n",
        "    self.batchnorm1 = nn.BatchNorm1d(num_features=128)\n",
        "    self.relu1 = nn.LeakyReLU()\n",
        "    self.dropout1 = nn.Dropout(p = 0.2)\n",
        "\n",
        "    self.layer_2 = nn.Linear(128, 128)\n",
        "    self.batchnorm2 = nn.BatchNorm1d(num_features=128)\n",
        "    self.relu2 = nn.LeakyReLU()\n",
        "    self.dropout2 = nn.Dropout(p = 0.3)\n",
        "\n",
        "    self.layer_3 = nn.Linear(128, 64)\n",
        "    self.batchnorm3 = nn.BatchNorm1d(num_features=64)\n",
        "    self.relu3 = nn.LeakyReLU()\n",
        "    self.dropout3 = nn.Dropout(p = 0.2)\n",
        "\n",
        "    self.layer_4 = nn.Linear(64, 1)\n",
        "\n",
        "  def forward(self, x):\n",
        "    x = self.batchnorm1(self.layer_1(x))\n",
        "    x = self.relu1(x)\n",
        "    x = self.dropout1(x)\n",
        "\n",
        "    x = self.batchnorm2(self.layer_2(x))\n",
        "    x = self.relu2(x)\n",
        "    x = self.dropout2(x)\n",
        "\n",
        "    x = self.batchnorm3(self.layer_3(x))\n",
        "    x = self.relu3(x)\n",
        "    x = self.dropout3(x)\n",
        "\n",
        "    x = self.layer_4(x)\n",
        "    return x"
      ],
      "metadata": {
        "id": "jREB5rw0mdF8"
      },
      "execution_count": null,
      "outputs": []
    },
    {
      "cell_type": "code",
      "source": [
        "model_1 = ChurnModel()\n",
        "model_2 = ChurnModelV2()\n",
        "model_3 = ChurnModelV3() # Sigmoid\n",
        "model_4 = ChurnModelV4() # Sigmoid\n",
        "model_5 = ChurnModelV5()\n",
        "model_6 = ChurnModelV6() # Sigmoid\n",
        "model_7 = ChurnModelV7()"
      ],
      "metadata": {
        "id": "3Q1CUq21kxDF"
      },
      "execution_count": null,
      "outputs": []
    },
    {
      "cell_type": "markdown",
      "source": [
        "# Initial Training set Accuracies\n"
      ],
      "metadata": {
        "id": "G-4sL6HbgBuQ"
      }
    },
    {
      "cell_type": "code",
      "source": [
        "# MODEL 1\n",
        "with torch.inference_mode():\n",
        "  y_pred = model_1(X_train)\n",
        "  y_pred_probs = torch.sigmoid(y_pred)\n",
        "  y_labels = torch.round(y_pred_probs)\n",
        "\n",
        "print(f\"Initial model accuracy : {accuracy_score(y_train, y_labels) * 100:.4f} %\\n\")\n",
        "cm_1 = confusion_matrix(y_train, y_labels)\n",
        "\n",
        "fig, ax = plt.subplots(figsize=(4, 4))\n",
        "\n",
        "disp = ConfusionMatrixDisplay(confusion_matrix=cm_1, display_labels=[\"Stayed\", \"Exited\"])\n",
        "disp.plot(cmap=\"Blues\", ax=ax)\n",
        "ax.set_title(\"Model-1 Confusion Matrix\")\n",
        "plt.grid(False)\n",
        "plt.show()"
      ],
      "metadata": {
        "id": "HiN5bDWzllN2"
      },
      "execution_count": null,
      "outputs": []
    },
    {
      "cell_type": "code",
      "source": [
        "# MODEL 2\n",
        "with torch.inference_mode():\n",
        "  y_pred = model_2(X_train)\n",
        "  y_pred_probs = torch.sigmoid(y_pred)\n",
        "  y_labels = torch.round(y_pred_probs)\n",
        "\n",
        "print(f\"Initial model accuracy : {accuracy_score(y_train, y_labels) * 100:.4f} %\\n\")\n",
        "cm_2 = confusion_matrix(y_train, y_labels)\n",
        "\n",
        "fig, ax = plt.subplots(figsize=(4, 4))\n",
        "\n",
        "disp = ConfusionMatrixDisplay(confusion_matrix=cm_2, display_labels=[\"Stayed\", \"Exited\"])\n",
        "disp.plot(cmap=\"Blues\", ax=ax)\n",
        "ax.set_title(\"Model-2 Confusion Matrix\")\n",
        "plt.grid(False)\n",
        "plt.show()"
      ],
      "metadata": {
        "id": "CCO3o0QuL3At"
      },
      "execution_count": null,
      "outputs": []
    },
    {
      "cell_type": "code",
      "source": [
        "# MODEL 3\n",
        "with torch.inference_mode():\n",
        "  y_pred = model_3(X_train)\n",
        "  y_labels = torch.round(y_pred)\n",
        "\n",
        "print(f\"Initial model accuracy : {accuracy_score(y_train, y_labels) * 100:.4f} %\\n\")\n",
        "cm_3 = confusion_matrix(y_train, y_labels)\n",
        "\n",
        "fig, ax = plt.subplots(figsize=(4, 4))\n",
        "\n",
        "disp = ConfusionMatrixDisplay(confusion_matrix=cm_3, display_labels=[\"Stayed\", \"Exited\"])\n",
        "disp.plot(cmap=\"Blues\", ax=ax)\n",
        "ax.set_title(\"Model-3 Confusion Matrix\")\n",
        "plt.grid(False)\n",
        "plt.show()"
      ],
      "metadata": {
        "id": "EGWzOsbIPeUh"
      },
      "execution_count": null,
      "outputs": []
    },
    {
      "cell_type": "code",
      "source": [
        "# MODEL 4\n",
        "with torch.inference_mode():\n",
        "  y_pred = model_4(X_train)\n",
        "  y_labels = torch.round(y_pred)\n",
        "\n",
        "print(f\"Initial model accuracy : {accuracy_score(y_train, y_labels) * 100:.4f} %\\n\")\n",
        "cm_4 = confusion_matrix(y_train, y_labels)\n",
        "\n",
        "fig, ax = plt.subplots(figsize=(4, 4))\n",
        "\n",
        "disp = ConfusionMatrixDisplay(confusion_matrix=cm_4, display_labels=[\"Stayed\", \"Exited\"])\n",
        "disp.plot(cmap=\"Blues\", ax=ax)\n",
        "ax.set_title(\"Model-4 Confusion Matrix\")\n",
        "plt.grid(False)\n",
        "plt.show()"
      ],
      "metadata": {
        "id": "n3A4WsB0gMA3"
      },
      "execution_count": null,
      "outputs": []
    },
    {
      "cell_type": "code",
      "source": [
        "# MODEL 5\n",
        "with torch.inference_mode():\n",
        "  y_pred = model_5(X_train)\n",
        "  y_pred_probs = torch.sigmoid(y_pred)\n",
        "  y_labels = torch.round(y_pred_probs)\n",
        "\n",
        "print(f\"Initial model accuracy : {accuracy_score(y_train, y_labels) * 100:.4f} %\\n\")\n",
        "cm_5 = confusion_matrix(y_train, y_labels)\n",
        "\n",
        "fig, ax = plt.subplots(figsize=(4, 4))\n",
        "\n",
        "disp = ConfusionMatrixDisplay(confusion_matrix=cm_5, display_labels=[\"Stayed\", \"Exited\"])\n",
        "disp.plot(cmap=\"Blues\", ax=ax)\n",
        "ax.set_title(\"Model-5 Confusion Matrix\")\n",
        "plt.grid(False)\n",
        "plt.show()"
      ],
      "metadata": {
        "id": "x3uLAZiRgMDk"
      },
      "execution_count": null,
      "outputs": []
    },
    {
      "cell_type": "code",
      "source": [
        "# MODEL 6\n",
        "with torch.inference_mode():\n",
        "  y_pred = model_6(X_train)\n",
        "  y_labels = torch.round(y_pred)\n",
        "\n",
        "print(f\"Initial model accuracy : {accuracy_score(y_train, y_labels) * 100:.4f} %\\n\")\n",
        "\n",
        "cm_6 = confusion_matrix(y_train, y_labels)\n",
        "\n",
        "fig, ax = plt.subplots(figsize=(4, 4))\n",
        "\n",
        "disp = ConfusionMatrixDisplay(confusion_matrix=cm_6, display_labels=[\"Stayed\", \"Exited\"])\n",
        "disp.plot(cmap=\"Blues\", ax=ax)\n",
        "ax.set_title(\"Model-6 Confusion Matrix\")\n",
        "plt.grid(False)\n",
        "plt.show()"
      ],
      "metadata": {
        "id": "YtLCKC2_gMKd"
      },
      "execution_count": null,
      "outputs": []
    },
    {
      "cell_type": "code",
      "source": [
        "# MODEL 7\n",
        "with torch.inference_mode():\n",
        "  y_pred = model_1(X_train)\n",
        "  y_pred_probs = torch.sigmoid(y_pred)\n",
        "  y_labels = torch.round(y_pred_probs)\n",
        "\n",
        "print(f\"Initial model accuracy : {accuracy_score(y_train, y_labels) * 100:.4f} %\\n\")\n",
        "cm_1 = confusion_matrix(y_train, y_labels)\n",
        "\n",
        "fig, ax = plt.subplots(figsize=(4, 4))\n",
        "\n",
        "disp = ConfusionMatrixDisplay(confusion_matrix=cm_1, display_labels=[\"Stayed\", \"Exited\"])\n",
        "disp.plot(cmap=\"Blues\", ax=ax)\n",
        "ax.set_title(\"Model-1 Confusion Matrix\")\n",
        "plt.grid(False)\n",
        "plt.show()"
      ],
      "metadata": {
        "id": "z906b5z1nFml"
      },
      "execution_count": null,
      "outputs": []
    },
    {
      "cell_type": "markdown",
      "source": [
        "# Optimizer and Loss Functions"
      ],
      "metadata": {
        "id": "cLsKL_Ski9ln"
      }
    },
    {
      "cell_type": "code",
      "source": [
        "pos_weight = torch.tensor([5163 / 1869])  # 2.27\n",
        "# pos_weight=pos_weight"
      ],
      "metadata": {
        "id": "dcAu2Mre5RFk"
      },
      "execution_count": null,
      "outputs": []
    },
    {
      "cell_type": "code",
      "source": [
        "# Loss Functions\n",
        "loss_fn_1 = nn.BCEWithLogitsLoss(pos_weight=pos_weight)\n",
        "loss_fn_2 = nn.BCELoss()\n",
        "\n",
        "# SGD — good with high lr\n",
        "SGD_optim_1 = torch.optim.SGD(params=model_1.parameters(), lr=0.1, weight_decay=1e-4)\n",
        "SGD_optim_2 = torch.optim.SGD(params=model_2.parameters(), lr=0.1, weight_decay=1e-4)\n",
        "SGD_optim_3 = torch.optim.SGD(params=model_3.parameters(), lr=0.1, weight_decay=1e-4)\n",
        "SGD_optim_4 = torch.optim.SGD(params=model_4.parameters(), lr=0.1, weight_decay=1e-4)\n",
        "SGD_optim_5 = torch.optim.SGD(params=model_5.parameters(), lr=0.1, weight_decay=1e-4)\n",
        "SGD_optim_6 = torch.optim.SGD(params=model_6.parameters(), lr=0.1, weight_decay=1e-4)\n",
        "\n",
        "# Adam — best general optimizer\n",
        "Adam_optim_1 = torch.optim.Adam(params=model_1.parameters(), lr=0.0007, weight_decay=1e-5)\n",
        "Adam_optim_2 = torch.optim.Adam(params=model_2.parameters(), lr=0.0007, weight_decay=1e-5)\n",
        "Adam_optim_3 = torch.optim.Adam(params=model_3.parameters(), lr=0.0007, weight_decay=1e-5)\n",
        "Adam_optim_4 = torch.optim.Adam(params=model_4.parameters(), lr=0.0007, weight_decay=1e-5)\n",
        "Adam_optim_5 = torch.optim.Adam(params=model_5.parameters(), lr=0.0007, weight_decay=1e-5)\n",
        "Adam_optim_6 = torch.optim.Adam(params=model_6.parameters(), lr=0.0007, weight_decay=1e-5)\n",
        "\n",
        "# RMSprop — better for noisy data\n",
        "RMSprop_optim_1 = torch.optim.RMSprop(params=model_1.parameters(), lr=0.0009, weight_decay=1e-5)\n",
        "RMSprop_optim_2 = torch.optim.RMSprop(params=model_2.parameters(), lr=0.0009, weight_decay=1e-5)\n",
        "RMSprop_optim_3 = torch.optim.RMSprop(params=model_3.parameters(), lr=0.0009, weight_decay=1e-5)\n",
        "RMSprop_optim_4 = torch.optim.RMSprop(params=model_4.parameters(), lr=0.0009, weight_decay=1e-5)\n",
        "RMSprop_optim_5 = torch.optim.RMSprop(params=model_5.parameters(), lr=0.0009, weight_decay=1e-5)\n",
        "RMSprop_optim_6 = torch.optim.RMSprop(params=model_6.parameters(), lr=0.0009, weight_decay=1e-5)\n",
        "\n",
        "# SGD with momentum (SGDW) — best when tuned well\n",
        "SGDW_optim_1 = torch.optim.SGD(params=model_1.parameters(), lr=0.02, momentum=0.9, weight_decay=1e-4)\n",
        "SGDW_optim_2 = torch.optim.SGD(params=model_2.parameters(), lr=0.02, momentum=0.9, weight_decay=1e-4)\n",
        "SGDW_optim_3 = torch.optim.SGD(params=model_3.parameters(), lr=0.02, momentum=0.9, weight_decay=1e-4)\n",
        "SGDW_optim_4 = torch.optim.SGD(params=model_4.parameters(), lr=0.02, momentum=0.9, weight_decay=1e-4)\n",
        "SGDW_optim_5 = torch.optim.SGD(params=model_5.parameters(), lr=0.02, momentum=0.9, weight_decay=1e-4)\n",
        "SGDW_optim_6 = torch.optim.SGD(params=model_6.parameters(), lr=0.02, momentum=0.9, weight_decay=1e-4)\n",
        "\n",
        "# Adagrad — not great for DL, but okay for comparison\n",
        "Adagrad_optim_1 = torch.optim.Adagrad(model_1.parameters(), lr=0.01, weight_decay=1e-4)\n",
        "Adagrad_optim_2 = torch.optim.Adagrad(model_2.parameters(), lr=0.01, weight_decay=1e-4)\n",
        "Adagrad_optim_3 = torch.optim.Adagrad(model_3.parameters(), lr=0.01, weight_decay=1e-4)\n",
        "Adagrad_optim_4 = torch.optim.Adagrad(model_4.parameters(), lr=0.01, weight_decay=1e-4)\n",
        "Adagrad_optim_5 = torch.optim.Adagrad(model_5.parameters(), lr=0.01, weight_decay=1e-4)\n",
        "Adagrad_optim_6 = torch.optim.Adagrad(model_6.parameters(), lr=0.01, weight_decay=1e-4)\n",
        "\n",
        "# (Optional) AdamW — best for modern deep learning\n",
        "AdamW_optim_1 = torch.optim.AdamW(model_7.parameters(), lr=0.001, weight_decay=1e-4)\n"
      ],
      "metadata": {
        "id": "rUzDvZAgnhXp"
      },
      "execution_count": null,
      "outputs": []
    },
    {
      "cell_type": "markdown",
      "source": [
        "# Training and Testing loops"
      ],
      "metadata": {
        "id": "acI4DbU7jBse"
      }
    },
    {
      "cell_type": "code",
      "source": [
        "SGD_precision_scores = []\n",
        "SGD_f1_scores = []\n",
        "SGD_recall_scores = []\n",
        "SGD_accuracy_scores = []\n",
        "\n",
        "adam_precision_scores = []\n",
        "adam_f1_scores = []\n",
        "adam_recall_scores = []\n",
        "adam_accuracy_scores = []\n",
        "\n",
        "rms_precision_scores = []\n",
        "rms_f1_scores = []\n",
        "rms_recall_scores = []\n",
        "rms_accuracy_scores = []\n",
        "\n",
        "SGDW_precision_scores = []\n",
        "SGDW_f1_scores = []\n",
        "SGDW_recall_scores = []\n",
        "SGDW_accuracy_scores = []\n",
        "\n",
        "adagrad_precision_scores = []\n",
        "adagrad_f1_scores = []\n",
        "adagrad_recall_scores = []\n",
        "adagrad_accuracy_scores = []"
      ],
      "metadata": {
        "id": "WzeYmSpv7I1r"
      },
      "execution_count": null,
      "outputs": []
    },
    {
      "cell_type": "code",
      "source": [
        "def model_loopV1(optimizer, loss_fn, model, precision, recall, f1, accuracy, model_name=\"\", optimizer_name=\"\", epochs=150, limit=100, plot = False, matrix = False, score_board = False, cf = False):\n",
        "    best_accuracy = 0\n",
        "    patience_counter = 0\n",
        "    test_label = 0\n",
        "    best_accuracy = 0\n",
        "\n",
        "    epoch_counts = []\n",
        "    test_loss_values = []\n",
        "    train_loss_values = []\n",
        "    test_accuracies = []\n",
        "    threshold = 0.45\n",
        "\n",
        "    for epoch in range(epochs):\n",
        "        model.train()\n",
        "\n",
        "        y_logits = model(X_train)\n",
        "        y_pred_probs = torch.sigmoid(y_logits)\n",
        "        y_labels = (y_pred_probs > threshold).int()\n",
        "\n",
        "        loss = loss_fn(y_logits, y_train)\n",
        "\n",
        "        optimizer.zero_grad()\n",
        "\n",
        "        loss.backward()\n",
        "\n",
        "        optimizer.step()\n",
        "\n",
        "        model.eval()\n",
        "        with torch.inference_mode():\n",
        "            test_logits = model(X_test)\n",
        "            test_pred_probs = torch.sigmoid(test_logits)\n",
        "            test_labels = (test_pred_probs > threshold).int()\n",
        "\n",
        "            test_loss = loss_fn(test_logits, y_test)\n",
        "            test_accuracy = accuracy_score(y_test, test_labels)\n",
        "\n",
        "            epoch_counts.append(epoch)\n",
        "            test_loss_values.append(test_loss.item())\n",
        "            train_loss_values.append(loss.item())\n",
        "            test_accuracies.append(test_accuracy)\n",
        "\n",
        "            # Early stopping\n",
        "            if test_accuracy > best_accuracy:\n",
        "                best_accuracy = test_accuracy\n",
        "                patience_counter = 0\n",
        "            else:\n",
        "                patience_counter += 1\n",
        "            if score_board == True:\n",
        "\n",
        "              if epoch % 10 == 0:\n",
        "                  print(f\"Epoch {epoch} | Train Loss: {loss:.4f} | Test Loss: {test_loss:.4f} | Accuracy: {test_accuracy:.4f}\")\n",
        "\n",
        "            if patience_counter >= limit:\n",
        "                print(f\"\\n Early stopping at epoch {epoch} | no improvement in last {limit} epochs.\")\n",
        "                break\n",
        "\n",
        "    print(f\"\\n Best accuracy: {best_accuracy * 100:.4f}\")\n",
        "\n",
        "    if plot == True:\n",
        "      plt.figure(figsize=(10, 5))\n",
        "      plt.plot(test_accuracies, label=\"Test Accuracy\", color=\"green\")\n",
        "      plt.title(f\"Test Accuracy over Epochs (Best: {best_accuracy * 100:.2f}) %\")\n",
        "      plt.xlabel(\"Epochs\")\n",
        "      plt.ylabel(\"Accuracy\")\n",
        "      plt.legend()\n",
        "      plt.grid(True, alpha = 0.6)\n",
        "      plt.show()\n",
        "\n",
        "    if matrix == True:\n",
        "      cm = confusion_matrix(y_test, test_labels)\n",
        "\n",
        "      fig, ax = plt.subplots(figsize=(5, 5))\n",
        "\n",
        "      disp = ConfusionMatrixDisplay(confusion_matrix = cm, display_labels = [\"Stayed\", \"Exited\"])\n",
        "      disp.plot(cmap = \"Blues\", ax = ax)\n",
        "      ax.set_title(f\"Confusion Matrix of {optimizer_name} with {model_name}\")\n",
        "      plt.grid(False)\n",
        "      plt.show()\n",
        "\n",
        "    if cf == True:\n",
        "      print(classification_report(y_test, test_labels, target_names=[\"Stayed\", \"Exited\"]))\n",
        "\n",
        "    p_score = round(precision_score(y_test, test_labels), 2)\n",
        "    r_score = round(recall_score(y_test, test_labels), 2)\n",
        "    f_score = round(f1_score(y_test, test_labels), 2)\n",
        "    best_accuracy = round(best_accuracy * 100, 2)\n",
        "    p_score = p_score * 100\n",
        "    r_score = r_score * 100\n",
        "    f_score = f_score * 100\n",
        "\n",
        "    precision.append(p_score)\n",
        "    recall.append(r_score)\n",
        "    f1.append(f_score)\n",
        "    accuracy.append(best_accuracy)\n",
        "\n",
        "    print(f\"Precision Score: {p_score:.2f} %\")\n",
        "    print(f\"Recall Score:    {r_score:.2f} %\")\n",
        "    print(f\"F1 Score:        {f_score:.2f} %\")\n"
      ],
      "metadata": {
        "id": "104g6Q6gm_1w"
      },
      "execution_count": null,
      "outputs": []
    },
    {
      "cell_type": "code",
      "source": [
        "def model_loopV2(optimizer, loss_fn, model, precision, recall, f1, accuracy, model_name=\"\", optimizer_name=\"\", epochs=150, limit=100, plot = False, matrix = False, score_board = False, cf = False):\n",
        "    best_accuracy = 0\n",
        "    patience_counter = 0\n",
        "    test_label = 0\n",
        "\n",
        "    epoch_counts = []\n",
        "    test_loss_values = []\n",
        "    train_loss_values = []\n",
        "    test_accuracies = []\n",
        "\n",
        "    for epoch in range(epochs):\n",
        "        model.train()\n",
        "\n",
        "        y_preds = model(X_train)\n",
        "        loss = loss_fn(y_preds, y_train)\n",
        "\n",
        "        optimizer.zero_grad()\n",
        "\n",
        "        loss.backward()\n",
        "\n",
        "        optimizer.step()\n",
        "\n",
        "        model.eval()\n",
        "        with torch.inference_mode():\n",
        "            test_pred_probs = model(X_test)\n",
        "            test_labels = torch.round(test_pred_probs)\n",
        "\n",
        "            test_loss = loss_fn(test_pred_probs, y_test)\n",
        "\n",
        "            test_accuracy = accuracy_score(y_test, test_labels)\n",
        "\n",
        "            epoch_counts.append(epoch)\n",
        "            test_loss_values.append(test_loss.item())\n",
        "            train_loss_values.append(loss.item())\n",
        "            test_accuracies.append(test_accuracy)\n",
        "\n",
        "            # Early stopping\n",
        "            if test_accuracy > best_accuracy:\n",
        "                best_accuracy = test_accuracy\n",
        "                patience_counter = 0\n",
        "            else:\n",
        "                patience_counter += 1\n",
        "\n",
        "            if score_board == True :\n",
        "              if epoch % 10 == 0:\n",
        "                  print(f\"Epoch {epoch} | Train Loss: {loss:.4f} | Test Loss: {test_loss:.4f} | Accuracy: {test_accuracy:.4f}\")\n",
        "\n",
        "            if patience_counter >= limit:\n",
        "                print(f\"\\n Early stopping at epoch {epoch} | no improvement in last {limit} epochs.\")\n",
        "                break\n",
        "\n",
        "    print(f\"\\n Best accuracy: {best_accuracy * 100:.4f}\")\n",
        "\n",
        "    if plot == True:\n",
        "      plt.figure(figsize=(10, 5))\n",
        "      plt.plot(test_accuracies, label=\"Test Accuracy\", color=\"green\")\n",
        "      plt.title(f\"Test Accuracy over Epochs (Best: {best_accuracy * 100:.2f}) %\")\n",
        "      plt.xlabel(\"Epochs\")\n",
        "      plt.ylabel(\"Accuracy\")\n",
        "      plt.legend()\n",
        "      plt.grid(True, alpha = 0.6)\n",
        "      plt.show()\n",
        "\n",
        "    if matrix == True:\n",
        "      cm = confusion_matrix(y_test, test_labels)\n",
        "\n",
        "      fig, ax = plt.subplots(figsize=(5, 5))\n",
        "\n",
        "      disp = ConfusionMatrixDisplay(confusion_matrix = cm, display_labels = [\"Stayed\", \"Exited\"])\n",
        "      disp.plot(cmap = \"Blues\", ax = ax)\n",
        "      ax.set_title(f\"Confusion Matrix of {optimizer_name} with {model_name}\")\n",
        "      plt.grid(False)\n",
        "      plt.show()\n",
        "\n",
        "    if cf == True:\n",
        "      print(classification_report(y_test, test_labels, target_names=[\"Stayed\", \"Exited\"]))\n",
        "\n",
        "    p_score = round(precision_score(y_test, test_labels), 2)\n",
        "    r_score = round(recall_score(y_test, test_labels), 2)\n",
        "    f_score = round(f1_score(y_test, test_labels), 2)\n",
        "    best_accuracy = round(best_accuracy * 100, 2)\n",
        "    p_score = p_score * 100\n",
        "    r_score = r_score * 100\n",
        "    f_score = f_score * 100\n",
        "\n",
        "    precision.append(p_score)\n",
        "    recall.append(r_score)\n",
        "    f1.append(f_score)\n",
        "    accuracy.append(best_accuracy)\n",
        "\n",
        "    print(f\"Precision Score: {p_score:.2f} %\")\n",
        "    print(f\"Recall Score:    {r_score:.2f} %\")\n",
        "    print(f\"F1 Score:        {f_score:.2f} %\")"
      ],
      "metadata": {
        "id": "j0S8Yzf29DyB"
      },
      "execution_count": null,
      "outputs": []
    },
    {
      "cell_type": "code",
      "source": [
        "# @title\n",
        "sns.set_style(\"whitegrid\")\n",
        "\n",
        "def accuracy_plot(models, accuracies, optimizer=''):\n",
        "    best_idx = accuracies.index(max(accuracies))\n",
        "    bar_colors = ['#B0C4DE' if i != best_idx else '#4682B4' for i in range(len(models))]\n",
        "\n",
        "    plt.figure(figsize=(10, 6))\n",
        "    bars = plt.bar(models, accuracies, color=bar_colors, edgecolor='black', width=0.55)\n",
        "\n",
        "    # Annotate bars with accuracy values\n",
        "    for bar, acc in zip(bars, accuracies):\n",
        "        plt.text(\n",
        "            bar.get_x() + bar.get_width() / 2,\n",
        "            acc + 0.3,\n",
        "            f\"{acc:.2f}%\",\n",
        "            ha='center',\n",
        "            va='bottom',\n",
        "            fontsize=11,\n",
        "            fontweight='semibold',\n",
        "            color='#333333'\n",
        "        )\n",
        "\n",
        "    # Baseline reference line at 80%\n",
        "    plt.axhline(y=80, color='grey', linestyle='--', linewidth=1, alpha=0.5)\n",
        "\n",
        "    plt.title(\n",
        "        f'Performance of {optimizer} Optimizer Across ANN Architectures\\n'\n",
        "        f'(Best: Model-{best_idx + 1} with {accuracies[best_idx]:.2f}%)',\n",
        "        fontsize=14,\n",
        "        fontweight='bold',\n",
        "        pad=15\n",
        "    )\n",
        "    plt.xlabel('Model Architectures', fontsize=12)\n",
        "    plt.ylabel('Test Accuracy (%)', fontsize=12)\n",
        "    plt.ylim(70, 85)\n",
        "    plt.xticks(fontsize=11)\n",
        "    plt.yticks(fontsize=11)\n",
        "    plt.grid(axis='y', linestyle='--', alpha=0.6)\n",
        "    plt.tight_layout()\n",
        "    plt.show()"
      ],
      "metadata": {
        "id": "OKdOHKBYZBqb"
      },
      "execution_count": null,
      "outputs": []
    },
    {
      "cell_type": "code",
      "source": [
        "# @title\n",
        "def plot_metrics_grouped(models, precisions, recalls, f1s):\n",
        "    n_models = len(models)\n",
        "    metrics = ['Precision', 'Recall', 'F1']\n",
        "    n_metrics = len(metrics)\n",
        "\n",
        "    bar_width = 0.25\n",
        "    x = np.arange(n_models)\n",
        "\n",
        "    plt.figure(figsize=(12, 6))\n",
        "\n",
        "    colors = ['#3B82F6', '#EF4444', '#10B981']\n",
        "\n",
        "    plt.bar(x - bar_width, precisions, width=bar_width, color=colors[0], label='Precision', edgecolor='black')\n",
        "    plt.bar(x, recalls, width=bar_width, color=colors[1], label='Recall', edgecolor='black')\n",
        "    plt.bar(x + bar_width, f1s, width=bar_width, color=colors[2], label='F1 Score', edgecolor='black')\n",
        "\n",
        "    # Add values on top of bars\n",
        "    for i in range(n_models):\n",
        "        plt.text(x[i] - bar_width, precisions[i] + 1, f\"{precisions[i]:.1f}%\", ha='center', fontsize=9)\n",
        "        plt.text(x[i], recalls[i] + 1, f\"{recalls[i]:.1f}%\", ha='center', fontsize=9)\n",
        "        plt.text(x[i] + bar_width, f1s[i] + 1, f\"{f1s[i]:.1f}%\", ha='center', fontsize=9)\n",
        "\n",
        "    plt.xticks(x, models, fontsize=11)\n",
        "    plt.yticks(fontsize=11)\n",
        "    plt.ylim(40, 90)  # assuming your scores hover around 50-80%, adjust if needed\n",
        "\n",
        "    plt.axhline(y=65, color='grey', linestyle='--', linewidth=1, alpha=0.5)\n",
        "\n",
        "    plt.ylabel('Score (%)', fontsize=12)\n",
        "    plt.title('Model Performance Metrics Comparison', fontsize=14, fontweight='bold', pad=15)\n",
        "    plt.legend()\n",
        "    plt.grid(axis='y', linestyle='--', alpha=0.6)\n",
        "    plt.tight_layout()\n",
        "    plt.show()\n"
      ],
      "metadata": {
        "id": "6PodzN2zCfPs"
      },
      "execution_count": null,
      "outputs": []
    },
    {
      "cell_type": "markdown",
      "source": [
        "### MODEL PERFORMANCES"
      ],
      "metadata": {
        "id": "pAbcL9GKjHxE"
      }
    },
    {
      "cell_type": "markdown",
      "source": [
        "# Stochastic Gradient Descent"
      ],
      "metadata": {
        "id": "WIdFS4aYEtu-"
      }
    },
    {
      "cell_type": "code",
      "source": [
        "SGD_1 = model_loopV1( SGD_optim_1, loss_fn_1, model_1, SGD_precision_scores, SGD_recall_scores, SGD_f1_scores, SGD_accuracy_scores, 'SGD', 'Model-1')\n",
        "SGD_1"
      ],
      "metadata": {
        "id": "LosphLywsyyx"
      },
      "execution_count": null,
      "outputs": []
    },
    {
      "cell_type": "code",
      "source": [
        "SGD_2 = model_loopV1(SGD_optim_2, loss_fn_1, model_2, SGD_precision_scores, SGD_recall_scores, SGD_f1_scores, SGD_accuracy_scores, 'SGD', 'Model 2')\n",
        "SGD_2"
      ],
      "metadata": {
        "id": "OYLuyEc3DoHF"
      },
      "execution_count": null,
      "outputs": []
    },
    {
      "cell_type": "code",
      "source": [
        "SGD_3 = model_loopV2(SGD_optim_3, loss_fn_2, model_3, SGD_precision_scores, SGD_recall_scores, SGD_f1_scores, SGD_accuracy_scores, 'SGD', 'Model 3', limit=100)\n",
        "SGD_3"
      ],
      "metadata": {
        "id": "UxcHzxdCee3V"
      },
      "execution_count": null,
      "outputs": []
    },
    {
      "cell_type": "code",
      "source": [
        "SGD_4 = model_loopV2(SGD_optim_4, loss_fn_2, model_4, SGD_precision_scores, SGD_recall_scores, SGD_f1_scores, SGD_accuracy_scores, 'SGD', 'Model 4')\n",
        "SGD_4"
      ],
      "metadata": {
        "id": "q_zQ16tddifE"
      },
      "execution_count": null,
      "outputs": []
    },
    {
      "cell_type": "code",
      "source": [
        "SGD_5 = model_loopV1(SGD_optim_5, loss_fn_1, model_5, SGD_precision_scores, SGD_recall_scores, SGD_f1_scores, SGD_accuracy_scores, 'SGD', 'Model 5')\n",
        "SGD_5"
      ],
      "metadata": {
        "id": "vg2TAqfBdira"
      },
      "execution_count": null,
      "outputs": []
    },
    {
      "cell_type": "code",
      "source": [
        "SGD_6 = model_loopV2(SGD_optim_6, loss_fn_2, model_6, SGD_precision_scores, SGD_recall_scores, SGD_f1_scores, SGD_accuracy_scores,'SGD', 'Model 6')\n",
        "SGD_6"
      ],
      "metadata": {
        "id": "G7HeS4kRdi1R"
      },
      "execution_count": null,
      "outputs": []
    },
    {
      "cell_type": "code",
      "source": [
        "models = ['Model 1', 'Model 2', 'Model 3', 'Model 4', 'Model 5', 'Model 6']\n",
        "accuracy_plot(models, SGD_accuracy_scores, optimizer='SGD')"
      ],
      "metadata": {
        "id": "OjcvpkgV-YDd"
      },
      "execution_count": null,
      "outputs": []
    },
    {
      "cell_type": "code",
      "source": [
        "plot_metrics_grouped(models, SGD_precision_scores, SGD_recall_scores, SGD_f1_scores)"
      ],
      "metadata": {
        "id": "r6Nd4K-hC6cE"
      },
      "execution_count": null,
      "outputs": []
    },
    {
      "cell_type": "markdown",
      "source": [
        "# Adaptive moment estimator (Adam)"
      ],
      "metadata": {
        "id": "UpCmbnqLE1x_"
      }
    },
    {
      "cell_type": "code",
      "source": [
        "model_loopV1(Adam_optim_1, loss_fn_1, model_1, adam_precision_scores, adam_recall_scores, adam_f1_scores, adam_accuracy_scores, 'Adam', 'Model 1')"
      ],
      "metadata": {
        "id": "WWvJIt96uVW0"
      },
      "execution_count": null,
      "outputs": []
    },
    {
      "cell_type": "code",
      "source": [
        "model_loopV1(Adam_optim_2, loss_fn_1, model_2, adam_precision_scores, adam_recall_scores, adam_f1_scores, adam_accuracy_scores, 'Adam', 'Model 2')"
      ],
      "metadata": {
        "id": "P4acJ0TGNUzt"
      },
      "execution_count": null,
      "outputs": []
    },
    {
      "cell_type": "code",
      "source": [
        "model_loopV2(Adam_optim_3, loss_fn_2, model_3, adam_precision_scores, adam_recall_scores, adam_f1_scores, adam_accuracy_scores, 'Adam', 'Model 3')"
      ],
      "metadata": {
        "id": "cdkfXOiwYvBl"
      },
      "execution_count": null,
      "outputs": []
    },
    {
      "cell_type": "code",
      "source": [
        "model_loopV2(Adam_optim_4, loss_fn_2, model_4, adam_precision_scores, adam_recall_scores, adam_f1_scores, adam_accuracy_scores, 'Adam', 'Model 4')"
      ],
      "metadata": {
        "id": "8AckqWG8eMlW"
      },
      "execution_count": null,
      "outputs": []
    },
    {
      "cell_type": "code",
      "source": [
        "model_loopV1(Adam_optim_5, loss_fn_1, model_5, adam_precision_scores, adam_recall_scores, adam_f1_scores, adam_accuracy_scores, 'Adam', 'Model 5')"
      ],
      "metadata": {
        "id": "5ZrgY-WHeMuI"
      },
      "execution_count": null,
      "outputs": []
    },
    {
      "cell_type": "code",
      "source": [
        "model_loopV2(Adam_optim_6, loss_fn_2, model_6, adam_precision_scores, adam_recall_scores, adam_f1_scores, adam_accuracy_scores, 'Adam', 'Model 6')"
      ],
      "metadata": {
        "id": "tPYxUztReMww"
      },
      "execution_count": null,
      "outputs": []
    },
    {
      "cell_type": "code",
      "source": [
        "accuracy_plot(models, adam_accuracy_scores, optimizer = 'Adam')"
      ],
      "metadata": {
        "id": "ZN9lTUEoXCqt"
      },
      "execution_count": null,
      "outputs": []
    },
    {
      "cell_type": "code",
      "source": [
        "plot_metrics_grouped(models, adam_precision_scores, adam_recall_scores, adam_f1_scores)"
      ],
      "metadata": {
        "id": "dBtQo-ZXHdax"
      },
      "execution_count": null,
      "outputs": []
    },
    {
      "cell_type": "markdown",
      "source": [
        "# RMSprop"
      ],
      "metadata": {
        "id": "tyd5CS4RPD_h"
      }
    },
    {
      "cell_type": "code",
      "source": [
        "model_loopV1(RMSprop_optim_1, loss_fn_1, model_1, rms_precision_scores, rms_recall_scores, rms_f1_scores, rms_accuracy_scores, 'RMSprop', 'Model 1')"
      ],
      "metadata": {
        "id": "h4jKenhlPDaA"
      },
      "execution_count": null,
      "outputs": []
    },
    {
      "cell_type": "code",
      "source": [
        "model_loopV1(RMSprop_optim_2, loss_fn_1, model_2, rms_precision_scores, rms_recall_scores, rms_f1_scores, rms_accuracy_scores, 'RMSprop', 'Model 2')"
      ],
      "metadata": {
        "id": "JB8b1J3yYzHn"
      },
      "execution_count": null,
      "outputs": []
    },
    {
      "cell_type": "code",
      "source": [
        "model_loopV2(RMSprop_optim_3, loss_fn_2, model_3, rms_precision_scores, rms_recall_scores, rms_f1_scores, rms_accuracy_scores, 'RMSprop', 'Model 3')"
      ],
      "metadata": {
        "id": "rCBLi6sIfGe7"
      },
      "execution_count": null,
      "outputs": []
    },
    {
      "cell_type": "code",
      "source": [
        "model_loopV2(RMSprop_optim_4, loss_fn_2, model_4, rms_precision_scores, rms_recall_scores, rms_f1_scores, rms_accuracy_scores, 'RMSprop', 'Model 4')"
      ],
      "metadata": {
        "id": "OH4H194debHD"
      },
      "execution_count": null,
      "outputs": []
    },
    {
      "cell_type": "code",
      "source": [
        "model_loopV1(RMSprop_optim_5, loss_fn_1, model_5, rms_precision_scores, rms_recall_scores, rms_f1_scores, rms_accuracy_scores,'RMSprop', 'Model 5')"
      ],
      "metadata": {
        "id": "_LjCJJBzebV1"
      },
      "execution_count": null,
      "outputs": []
    },
    {
      "cell_type": "code",
      "source": [
        "model_loopV2(RMSprop_optim_6, loss_fn_2, model_6, rms_precision_scores, rms_recall_scores, rms_f1_scores, rms_accuracy_scores, 'RMSprop', 'Model 6')"
      ],
      "metadata": {
        "id": "bVuOHBLUebge"
      },
      "execution_count": null,
      "outputs": []
    },
    {
      "cell_type": "code",
      "source": [
        "accuracy_plot(models, rms_accuracy_scores, optimizer = 'RMSprop')"
      ],
      "metadata": {
        "id": "0YzT8EQ4lD8e"
      },
      "execution_count": null,
      "outputs": []
    },
    {
      "cell_type": "code",
      "source": [
        "plot_metrics_grouped(models, rms_precision_scores, rms_recall_scores, rms_f1_scores)"
      ],
      "metadata": {
        "id": "8AvkhqL4HP_K"
      },
      "execution_count": null,
      "outputs": []
    },
    {
      "cell_type": "markdown",
      "source": [
        "# SGD with Momentum\n"
      ],
      "metadata": {
        "id": "iGUOd2xPnWvG"
      }
    },
    {
      "cell_type": "code",
      "source": [
        "model_loopV1(SGDW_optim_1, loss_fn_1, model_1, SGDW_precision_scores, SGDW_recall_scores, SGDW_f1_scores, SGDW_accuracy_scores, 'SGDW', 'Model 1')"
      ],
      "metadata": {
        "id": "hW80hcnDnZnH"
      },
      "execution_count": null,
      "outputs": []
    },
    {
      "cell_type": "code",
      "source": [
        "model_loopV1(SGDW_optim_2, loss_fn_1, model_2, SGDW_precision_scores, SGDW_recall_scores, SGDW_f1_scores, SGDW_accuracy_scores, 'SGDW', 'Model 2')"
      ],
      "metadata": {
        "id": "D8HvxoAXngDZ"
      },
      "execution_count": null,
      "outputs": []
    },
    {
      "cell_type": "code",
      "source": [
        "SGD_optim_3 = torch.optim.SGD(params=model_3.parameters(), lr=0.01, momentum=0.9)\n",
        "loss_fn_2 = nn.BCELoss()\n",
        "model_loopV2(SGD_optim_3, loss_fn_2, model_3, SGDW_precision_scores, SGDW_recall_scores, SGDW_f1_scores, SGDW_accuracy_scores, 'SGDW', 'Model 3')"
      ],
      "metadata": {
        "id": "W-ZQRthXyUQm"
      },
      "execution_count": null,
      "outputs": []
    },
    {
      "cell_type": "code",
      "source": [
        "model_loopV2(SGDW_optim_4, loss_fn_2, model_4, SGDW_precision_scores, SGDW_recall_scores, SGDW_f1_scores, SGDW_accuracy_scores, 'SGDW', 'Model 4')"
      ],
      "metadata": {
        "id": "WxsycMV5enXD"
      },
      "execution_count": null,
      "outputs": []
    },
    {
      "cell_type": "code",
      "source": [
        "model_loopV1(SGDW_optim_5, loss_fn_1, model_5, SGDW_precision_scores, SGDW_recall_scores, SGDW_f1_scores, SGDW_accuracy_scores, 'SGDW', 'Model 5')"
      ],
      "metadata": {
        "id": "b9AxuQpmengr"
      },
      "execution_count": null,
      "outputs": []
    },
    {
      "cell_type": "code",
      "source": [
        "model_loopV2(SGDW_optim_6, loss_fn_2, model_6, SGDW_precision_scores, SGDW_recall_scores, SGDW_f1_scores, SGDW_accuracy_scores, 'SGDW', 'Model 6')"
      ],
      "metadata": {
        "id": "4uzDt3ePenqm"
      },
      "execution_count": null,
      "outputs": []
    },
    {
      "cell_type": "code",
      "source": [
        "accuracy_plot(models, SGDW_accuracy_scores, optimizer = 'SGD (with momentum)')\n",
        "print(\"Model 1 and Model 5 performed similarly\")"
      ],
      "metadata": {
        "id": "KFoQlaZXlga2"
      },
      "execution_count": null,
      "outputs": []
    },
    {
      "cell_type": "code",
      "source": [
        "plot_metrics_grouped(models, SGDW_precision_scores, SGDW_recall_scores, SGDW_f1_scores)"
      ],
      "metadata": {
        "id": "_Ku75_dTKFua"
      },
      "execution_count": null,
      "outputs": []
    },
    {
      "cell_type": "markdown",
      "source": [
        "# AdaGrad"
      ],
      "metadata": {
        "id": "rdhlP7kZ60SG"
      }
    },
    {
      "cell_type": "code",
      "source": [
        "model_loopV1(Adagrad_opitm_1, loss_fn_1, model_1, adagrad_precision_scores, adagrad_recall_scores, adagrad_f1_scores, adagrad_accuracy_scores, 'AdaGrad', 'Model 1')"
      ],
      "metadata": {
        "id": "7f5clSK3620k"
      },
      "execution_count": null,
      "outputs": []
    },
    {
      "cell_type": "code",
      "source": [
        "model_loopV1(Adagrad_opitm_2, loss_fn_1, model_2, adagrad_precision_scores, adagrad_recall_scores, adagrad_f1_scores, adagrad_accuracy_scores, 'AdaGrad', 'Model 2')"
      ],
      "metadata": {
        "id": "0vxbbEH07bPo"
      },
      "execution_count": null,
      "outputs": []
    },
    {
      "cell_type": "code",
      "source": [
        "model_loopV2(Adagrad_opitm_3, loss_fn_2, model_3, adagrad_precision_scores, adagrad_recall_scores, adagrad_f1_scores, adagrad_accuracy_scores, 'AdaGrad', 'Model 3')"
      ],
      "metadata": {
        "id": "JPbeknUU7ezb"
      },
      "execution_count": null,
      "outputs": []
    },
    {
      "cell_type": "code",
      "source": [
        "model_loopV2(Adagrad_opitm_4, loss_fn_2, model_4, adagrad_precision_scores, adagrad_recall_scores, adagrad_f1_scores, adagrad_accuracy_scores, 'AdaGrad', 'Model 4')"
      ],
      "metadata": {
        "id": "sYNeAUfqe8Tl"
      },
      "execution_count": null,
      "outputs": []
    },
    {
      "cell_type": "code",
      "source": [
        "model_loopV1(Adagrad_opitm_5, loss_fn_1, model_5, adagrad_precision_scores, adagrad_recall_scores, adagrad_f1_scores, adagrad_accuracy_scores, 'AdaGrad', 'Model 5')"
      ],
      "metadata": {
        "id": "cfLpZdWPe8fD"
      },
      "execution_count": null,
      "outputs": []
    },
    {
      "cell_type": "code",
      "source": [
        "model_loopV2(Adagrad_opitm_6, loss_fn_2, model_6, adagrad_precision_scores, adagrad_recall_scores, adagrad_f1_scores, adagrad_accuracy_scores, 'AdaGrad', 'Model 6')"
      ],
      "metadata": {
        "id": "A0Ii_6qle8oh"
      },
      "execution_count": null,
      "outputs": []
    },
    {
      "cell_type": "code",
      "source": [
        "accuracy_plot(models, adagrad_accuracy_scores, optimizer = 'Adagrad')"
      ],
      "metadata": {
        "id": "m9dBzuPRnDVk"
      },
      "execution_count": null,
      "outputs": []
    },
    {
      "cell_type": "code",
      "source": [
        "plot_metrics_grouped(models, adagrad_precision_scores, adagrad_recall_scores, adagrad_f1_scores)"
      ],
      "metadata": {
        "id": "t4r3P30lK6S-"
      },
      "execution_count": null,
      "outputs": []
    },
    {
      "cell_type": "code",
      "source": [
        "# @title\n",
        "model_loopV2(AdamW_opitm_1, loss_fn_1, model_7, adagrad_precision_scores, adagrad_recall_scores, adagrad_f1_scores, adagrad_accuracy_scores, 'AdaGrad', 'Model 4')"
      ],
      "metadata": {
        "id": "UOMpsU8soL3y"
      },
      "execution_count": null,
      "outputs": []
    },
    {
      "cell_type": "markdown",
      "source": [
        "# Summary Table"
      ],
      "metadata": {
        "id": "aqMNuuleU-o5"
      }
    },
    {
      "cell_type": "code",
      "source": [
        "\n",
        "summary = {\n",
        "    \"Model\": [f\"Model {i+1}\" for i in range(6)] * 5,\n",
        "    \"Optimizer\": ([\"SGD\"] * 6 +\n",
        "                  [\"Adam\"] * 6 +\n",
        "                  [\"RMSProp\"] * 6 +\n",
        "                  [\"SGD+W\"] * 6 +\n",
        "                  [\"Adagrad\"] * 6),\n",
        "    \"Accuracy\": SGD_accuracy_scores + adam_accuracy_scores + rms_accuracy_scores + SGDW_accuracy_scores + adagrad_accuracy_scores,\n",
        "    \"Precision\": SGD_precision_scores + adam_precision_scores + rms_precision_scores + SGDW_precision_scores + adagrad_precision_scores,\n",
        "    \"Recall\": SGD_recall_scores + adam_recall_scores + rms_recall_scores + SGDW_recall_scores + adagrad_recall_scores,\n",
        "    \"F1 Score\": SGD_f1_scores + adam_f1_scores + rms_f1_scores + SGDW_f1_scores + adagrad_f1_scores\n",
        "}\n",
        "\n",
        "df = pd.DataFrame(summary)\n",
        "df = df.round(2)\n",
        "df"
      ],
      "metadata": {
        "id": "GNRJ_mPWUkXU"
      },
      "execution_count": null,
      "outputs": []
    },
    {
      "cell_type": "code",
      "source": [
        "df[\"Composite Score\"] = (0.3 * df[\"Accuracy\"] +\n",
        "                         0.3 * df[\"F1 Score\"] +\n",
        "                         0.2 * df[\"Precision\"] +\n",
        "                         0.2 * df[\"Recall\"])\n",
        "\n",
        "df = df.sort_values(by=\"Composite Score\", ascending=False)\n",
        "df.head()"
      ],
      "metadata": {
        "id": "xJ3JbfnuVJfm"
      },
      "execution_count": null,
      "outputs": []
    }
  ]
}